{
  "nbformat": 4,
  "nbformat_minor": 0,
  "metadata": {
    "colab": {
      "name": "Mancala.ipynb",
      "provenance": [],
      "collapsed_sections": [],
      "include_colab_link": true
    },
    "kernelspec": {
      "name": "python3",
      "display_name": "Python 3"
    }
  },
  "cells": [
    {
      "cell_type": "markdown",
      "metadata": {
        "id": "view-in-github",
        "colab_type": "text"
      },
      "source": [
        "<a href=\"https://colab.research.google.com/github/Jkt1412/BiRnn-Attention-Summarizer/blob/master/Mancala.ipynb\" target=\"_parent\"><img src=\"https://colab.research.google.com/assets/colab-badge.svg\" alt=\"Open In Colab\"/></a>"
      ]
    },
    {
      "cell_type": "code",
      "metadata": {
        "id": "rG8leCQpooX8",
        "colab_type": "code",
        "colab": {}
      },
      "source": [
        "class board :\n",
        "\n",
        "  def __init__(self, num_stones, store1 = 0, store2 = 0):\n",
        "\n",
        "    self.player_flag = 1     # Player 1 turn\n",
        "    self.player1 = [store1] + [num_stones]*6\n",
        "    self.player2 = [num_stones]*6 + [store2]\n",
        "    print(\"       6   5    4     3    2    1\")\n",
        "    print(\"    ------------------------------\")\n",
        "    print(\"{:02}  | {:02} | {:02} | {:02} || {:02} | {:02} | {:02}\".format(*self.player1))\n",
        "    print(\"---------------------------------------\")\n",
        "    print(\"   | {:02} | {:02} | {:02} || {:02} | {:02} | {:02} | {:02}\".format(*self.player2))\n",
        "    print(\"   --------------------------------\")\n",
        "    print(\"      1    2    3     4    5    6\\n\")\n",
        "\n",
        "  def __repr__(self):\n",
        "    one = \"       6   5    4     3    2    1\\n\"\n",
        "    two = \"    ------------------------------\\n\"\n",
        "    three = \"{:02}  | {:02} | {:02} | {:02} || {:02} | {:02} | {:02}\\n\".format(*self.player1)\n",
        "    four = \"---------------------------------------\\n\"\n",
        "    five = \"   | {:02} | {:02} | {:02} || {:02} | {:02} | {:02} | {:02}\\n\".format(*self.player2)\n",
        "    six = \"   --------------------------------\\n\"\n",
        "    seven = \"      1    2    3     4    5    6\\n\"\n",
        "    return one + two + three + four + five + six + seven\n",
        "\n",
        "\n",
        "  def play(self):\n",
        "\n",
        "    if sum(self.player1[1:]) == 0 or sum(self.player2[:-1]) == 0:\n",
        "      if self.player1[0] > self.player2[6]:\n",
        "        print(\"Player 1 Wins!\")\n",
        "      elif self.player1[0] < self.player2[6]:\n",
        "        print(\"Player 2 Wins!\")\n",
        "      else:\n",
        "        print(\"Draw!\")\n",
        "\n",
        "    if self.player_flag == 1 :\n",
        "      print(\"Player 1's turn : \") \n",
        "      self.action = int(input())\n",
        "      if self.action > 6 or self.player1[7-self.action] == 0 :\n",
        "        print(\"Illegal Move, play again :\")\n",
        "        self.play()\n",
        "      else :\n",
        "        stones = self.player1[7-self.action]   \n",
        "        self.player1[7-self.action] = 0\n",
        "        dividend = int(stones/13)\n",
        "        remainder = stones % 13\n",
        "        for i in self.player1:\n",
        "          i = i + dividend\n",
        "        for i in self.player2[:-1]:\n",
        "          i = i + dividend\n",
        "        if remainder < 7-self.action + 1 :\n",
        "          for i in range(7-self.action):\n",
        "            self.player1[7-self.action - 1 -i] = self.player1[7-self.action - 1 -i] + 1\n",
        "        elif remainder < 14 - self.action:\n",
        "          for i in range(7-self.action):\n",
        "            self.player1[i] = self.player1[i] + 1\n",
        "          for i in range(remainder - (7 - self.action)):\n",
        "            self.player2[i] = self.player2[i] + 1\n",
        "        else:\n",
        "          for i in range(7-self.action):\n",
        "            self.player1[i] = self.player1[i] + 1\n",
        "          for i in range(6):\n",
        "            self.player2[i] = self.player2[i] + 1\n",
        "          for i in range(remainder - (7 - self.action) - 6):\n",
        "            self.player1[6 - i] = self.player1[6 - i] + 1 \n",
        "        print(self)\n",
        "        #Change player flag to 2\n",
        "        self.play()\n",
        "    \n",
        "\n",
        "\n",
        "\n",
        "  \n",
        "\n",
        "\n",
        "\n",
        "\n"
      ],
      "execution_count": 0,
      "outputs": []
    },
    {
      "cell_type": "code",
      "metadata": {
        "id": "PM25FY-p29AT",
        "colab_type": "code",
        "outputId": "b2d61379-21b9-456e-be01-9f3f68d3f49f",
        "colab": {
          "base_uri": "https://localhost:8080/",
          "height": 156
        }
      },
      "source": [
        "game1 = board(9)\n"
      ],
      "execution_count": 210,
      "outputs": [
        {
          "output_type": "stream",
          "text": [
            "       6   5    4     3    2    1\n",
            "    ------------------------------\n",
            "00  | 09 | 09 | 09 || 09 | 09 | 09\n",
            "---------------------------------------\n",
            "   | 09 | 09 | 09 || 09 | 09 | 09 | 00\n",
            "   --------------------------------\n",
            "      1    2    3     4    5    6\n",
            "\n"
          ],
          "name": "stdout"
        }
      ]
    },
    {
      "cell_type": "code",
      "metadata": {
        "id": "js5E_U6top5B",
        "colab_type": "code",
        "outputId": "0390844e-d544-4bea-ffba-d401a8aa1526",
        "colab": {
          "base_uri": "https://localhost:8080/",
          "height": 1000
        }
      },
      "source": [
        "game1.play()"
      ],
      "execution_count": 211,
      "outputs": [
        {
          "output_type": "stream",
          "text": [
            "Player 1's turn : \n",
            "6\n",
            "       6   5    4     3    2    1\n",
            "    ------------------------------\n",
            "01  | 00 | 09 | 09 || 09 | 10 | 10\n",
            "---------------------------------------\n",
            "   | 10 | 10 | 10 || 10 | 10 | 10 | 00\n",
            "   --------------------------------\n",
            "      1    2    3     4    5    6\n",
            "\n",
            "Player 1's turn : \n",
            "5\n",
            "       6   5    4     3    2    1\n",
            "    ------------------------------\n",
            "02  | 01 | 00 | 09 || 09 | 10 | 11\n",
            "---------------------------------------\n",
            "   | 11 | 11 | 11 || 11 | 11 | 11 | 00\n",
            "   --------------------------------\n",
            "      1    2    3     4    5    6\n",
            "\n",
            "Player 1's turn : \n",
            "1\n",
            "       6   5    4     3    2    1\n",
            "    ------------------------------\n",
            "03  | 02 | 01 | 10 || 10 | 11 | 00\n",
            "---------------------------------------\n",
            "   | 12 | 12 | 12 || 12 | 12 | 11 | 00\n",
            "   --------------------------------\n",
            "      1    2    3     4    5    6\n",
            "\n",
            "Player 1's turn : \n"
          ],
          "name": "stdout"
        },
        {
          "output_type": "error",
          "ename": "KeyboardInterrupt",
          "evalue": "ignored",
          "traceback": [
            "\u001b[0;31m---------------------------------------------------------------------------\u001b[0m",
            "\u001b[0;31mKeyboardInterrupt\u001b[0m                         Traceback (most recent call last)",
            "\u001b[0;32m/usr/local/lib/python3.6/dist-packages/ipykernel/kernelbase.py\u001b[0m in \u001b[0;36m_input_request\u001b[0;34m(self, prompt, ident, parent, password)\u001b[0m\n\u001b[1;32m    729\u001b[0m             \u001b[0;32mtry\u001b[0m\u001b[0;34m:\u001b[0m\u001b[0;34m\u001b[0m\u001b[0;34m\u001b[0m\u001b[0m\n\u001b[0;32m--> 730\u001b[0;31m                 \u001b[0mident\u001b[0m\u001b[0;34m,\u001b[0m \u001b[0mreply\u001b[0m \u001b[0;34m=\u001b[0m \u001b[0mself\u001b[0m\u001b[0;34m.\u001b[0m\u001b[0msession\u001b[0m\u001b[0;34m.\u001b[0m\u001b[0mrecv\u001b[0m\u001b[0;34m(\u001b[0m\u001b[0mself\u001b[0m\u001b[0;34m.\u001b[0m\u001b[0mstdin_socket\u001b[0m\u001b[0;34m,\u001b[0m \u001b[0;36m0\u001b[0m\u001b[0;34m)\u001b[0m\u001b[0;34m\u001b[0m\u001b[0;34m\u001b[0m\u001b[0m\n\u001b[0m\u001b[1;32m    731\u001b[0m             \u001b[0;32mexcept\u001b[0m \u001b[0mException\u001b[0m\u001b[0;34m:\u001b[0m\u001b[0;34m\u001b[0m\u001b[0;34m\u001b[0m\u001b[0m\n",
            "\u001b[0;32m/usr/local/lib/python3.6/dist-packages/jupyter_client/session.py\u001b[0m in \u001b[0;36mrecv\u001b[0;34m(self, socket, mode, content, copy)\u001b[0m\n\u001b[1;32m    802\u001b[0m         \u001b[0;32mtry\u001b[0m\u001b[0;34m:\u001b[0m\u001b[0;34m\u001b[0m\u001b[0;34m\u001b[0m\u001b[0m\n\u001b[0;32m--> 803\u001b[0;31m             \u001b[0mmsg_list\u001b[0m \u001b[0;34m=\u001b[0m \u001b[0msocket\u001b[0m\u001b[0;34m.\u001b[0m\u001b[0mrecv_multipart\u001b[0m\u001b[0;34m(\u001b[0m\u001b[0mmode\u001b[0m\u001b[0;34m,\u001b[0m \u001b[0mcopy\u001b[0m\u001b[0;34m=\u001b[0m\u001b[0mcopy\u001b[0m\u001b[0;34m)\u001b[0m\u001b[0;34m\u001b[0m\u001b[0;34m\u001b[0m\u001b[0m\n\u001b[0m\u001b[1;32m    804\u001b[0m         \u001b[0;32mexcept\u001b[0m \u001b[0mzmq\u001b[0m\u001b[0;34m.\u001b[0m\u001b[0mZMQError\u001b[0m \u001b[0;32mas\u001b[0m \u001b[0me\u001b[0m\u001b[0;34m:\u001b[0m\u001b[0;34m\u001b[0m\u001b[0;34m\u001b[0m\u001b[0m\n",
            "\u001b[0;32m/usr/local/lib/python3.6/dist-packages/zmq/sugar/socket.py\u001b[0m in \u001b[0;36mrecv_multipart\u001b[0;34m(self, flags, copy, track)\u001b[0m\n\u001b[1;32m    465\u001b[0m         \"\"\"\n\u001b[0;32m--> 466\u001b[0;31m         \u001b[0mparts\u001b[0m \u001b[0;34m=\u001b[0m \u001b[0;34m[\u001b[0m\u001b[0mself\u001b[0m\u001b[0;34m.\u001b[0m\u001b[0mrecv\u001b[0m\u001b[0;34m(\u001b[0m\u001b[0mflags\u001b[0m\u001b[0;34m,\u001b[0m \u001b[0mcopy\u001b[0m\u001b[0;34m=\u001b[0m\u001b[0mcopy\u001b[0m\u001b[0;34m,\u001b[0m \u001b[0mtrack\u001b[0m\u001b[0;34m=\u001b[0m\u001b[0mtrack\u001b[0m\u001b[0;34m)\u001b[0m\u001b[0;34m]\u001b[0m\u001b[0;34m\u001b[0m\u001b[0;34m\u001b[0m\u001b[0m\n\u001b[0m\u001b[1;32m    467\u001b[0m         \u001b[0;31m# have first part already, only loop while more to receive\u001b[0m\u001b[0;34m\u001b[0m\u001b[0;34m\u001b[0m\u001b[0;34m\u001b[0m\u001b[0m\n",
            "\u001b[0;32mzmq/backend/cython/socket.pyx\u001b[0m in \u001b[0;36mzmq.backend.cython.socket.Socket.recv\u001b[0;34m()\u001b[0m\n",
            "\u001b[0;32mzmq/backend/cython/socket.pyx\u001b[0m in \u001b[0;36mzmq.backend.cython.socket.Socket.recv\u001b[0;34m()\u001b[0m\n",
            "\u001b[0;32mzmq/backend/cython/socket.pyx\u001b[0m in \u001b[0;36mzmq.backend.cython.socket._recv_copy\u001b[0;34m()\u001b[0m\n",
            "\u001b[0;32m/usr/local/lib/python3.6/dist-packages/zmq/backend/cython/checkrc.pxd\u001b[0m in \u001b[0;36mzmq.backend.cython.checkrc._check_rc\u001b[0;34m()\u001b[0m\n",
            "\u001b[0;31mKeyboardInterrupt\u001b[0m: ",
            "\nDuring handling of the above exception, another exception occurred:\n",
            "\u001b[0;31mKeyboardInterrupt\u001b[0m                         Traceback (most recent call last)",
            "\u001b[0;32m<ipython-input-211-79adce5ebf6a>\u001b[0m in \u001b[0;36m<module>\u001b[0;34m()\u001b[0m\n\u001b[0;32m----> 1\u001b[0;31m \u001b[0mgame1\u001b[0m\u001b[0;34m.\u001b[0m\u001b[0mplay\u001b[0m\u001b[0;34m(\u001b[0m\u001b[0;34m)\u001b[0m\u001b[0;34m\u001b[0m\u001b[0;34m\u001b[0m\u001b[0m\n\u001b[0m",
            "\u001b[0;32m<ipython-input-209-e7d6a8028e47>\u001b[0m in \u001b[0;36mplay\u001b[0;34m(self)\u001b[0m\n\u001b[1;32m     67\u001b[0m         \u001b[0mprint\u001b[0m\u001b[0;34m(\u001b[0m\u001b[0mself\u001b[0m\u001b[0;34m)\u001b[0m\u001b[0;34m\u001b[0m\u001b[0;34m\u001b[0m\u001b[0m\n\u001b[1;32m     68\u001b[0m         \u001b[0;31m#Change player flag to 2\u001b[0m\u001b[0;34m\u001b[0m\u001b[0;34m\u001b[0m\u001b[0;34m\u001b[0m\u001b[0m\n\u001b[0;32m---> 69\u001b[0;31m         \u001b[0mself\u001b[0m\u001b[0;34m.\u001b[0m\u001b[0mplay\u001b[0m\u001b[0;34m(\u001b[0m\u001b[0;34m)\u001b[0m\u001b[0;34m\u001b[0m\u001b[0;34m\u001b[0m\u001b[0m\n\u001b[0m\u001b[1;32m     70\u001b[0m \u001b[0;34m\u001b[0m\u001b[0m\n\u001b[1;32m     71\u001b[0m \u001b[0;34m\u001b[0m\u001b[0m\n",
            "\u001b[0;32m<ipython-input-209-e7d6a8028e47>\u001b[0m in \u001b[0;36mplay\u001b[0;34m(self)\u001b[0m\n\u001b[1;32m     67\u001b[0m         \u001b[0mprint\u001b[0m\u001b[0;34m(\u001b[0m\u001b[0mself\u001b[0m\u001b[0;34m)\u001b[0m\u001b[0;34m\u001b[0m\u001b[0;34m\u001b[0m\u001b[0m\n\u001b[1;32m     68\u001b[0m         \u001b[0;31m#Change player flag to 2\u001b[0m\u001b[0;34m\u001b[0m\u001b[0;34m\u001b[0m\u001b[0;34m\u001b[0m\u001b[0m\n\u001b[0;32m---> 69\u001b[0;31m         \u001b[0mself\u001b[0m\u001b[0;34m.\u001b[0m\u001b[0mplay\u001b[0m\u001b[0;34m(\u001b[0m\u001b[0;34m)\u001b[0m\u001b[0;34m\u001b[0m\u001b[0;34m\u001b[0m\u001b[0m\n\u001b[0m\u001b[1;32m     70\u001b[0m \u001b[0;34m\u001b[0m\u001b[0m\n\u001b[1;32m     71\u001b[0m \u001b[0;34m\u001b[0m\u001b[0m\n",
            "\u001b[0;32m<ipython-input-209-e7d6a8028e47>\u001b[0m in \u001b[0;36mplay\u001b[0;34m(self)\u001b[0m\n\u001b[1;32m     67\u001b[0m         \u001b[0mprint\u001b[0m\u001b[0;34m(\u001b[0m\u001b[0mself\u001b[0m\u001b[0;34m)\u001b[0m\u001b[0;34m\u001b[0m\u001b[0;34m\u001b[0m\u001b[0m\n\u001b[1;32m     68\u001b[0m         \u001b[0;31m#Change player flag to 2\u001b[0m\u001b[0;34m\u001b[0m\u001b[0;34m\u001b[0m\u001b[0;34m\u001b[0m\u001b[0m\n\u001b[0;32m---> 69\u001b[0;31m         \u001b[0mself\u001b[0m\u001b[0;34m.\u001b[0m\u001b[0mplay\u001b[0m\u001b[0;34m(\u001b[0m\u001b[0;34m)\u001b[0m\u001b[0;34m\u001b[0m\u001b[0;34m\u001b[0m\u001b[0m\n\u001b[0m\u001b[1;32m     70\u001b[0m \u001b[0;34m\u001b[0m\u001b[0m\n\u001b[1;32m     71\u001b[0m \u001b[0;34m\u001b[0m\u001b[0m\n",
            "\u001b[0;32m<ipython-input-209-e7d6a8028e47>\u001b[0m in \u001b[0;36mplay\u001b[0;34m(self)\u001b[0m\n\u001b[1;32m     37\u001b[0m     \u001b[0;32mif\u001b[0m \u001b[0mself\u001b[0m\u001b[0;34m.\u001b[0m\u001b[0mplayer_flag\u001b[0m \u001b[0;34m==\u001b[0m \u001b[0;36m1\u001b[0m \u001b[0;34m:\u001b[0m\u001b[0;34m\u001b[0m\u001b[0;34m\u001b[0m\u001b[0m\n\u001b[1;32m     38\u001b[0m       \u001b[0mprint\u001b[0m\u001b[0;34m(\u001b[0m\u001b[0;34m\"Player 1's turn : \"\u001b[0m\u001b[0;34m)\u001b[0m\u001b[0;34m\u001b[0m\u001b[0;34m\u001b[0m\u001b[0m\n\u001b[0;32m---> 39\u001b[0;31m       \u001b[0mself\u001b[0m\u001b[0;34m.\u001b[0m\u001b[0maction\u001b[0m \u001b[0;34m=\u001b[0m \u001b[0mint\u001b[0m\u001b[0;34m(\u001b[0m\u001b[0minput\u001b[0m\u001b[0;34m(\u001b[0m\u001b[0;34m)\u001b[0m\u001b[0;34m)\u001b[0m\u001b[0;34m\u001b[0m\u001b[0;34m\u001b[0m\u001b[0m\n\u001b[0m\u001b[1;32m     40\u001b[0m       \u001b[0;32mif\u001b[0m \u001b[0mself\u001b[0m\u001b[0;34m.\u001b[0m\u001b[0maction\u001b[0m \u001b[0;34m>\u001b[0m \u001b[0;36m6\u001b[0m \u001b[0;32mor\u001b[0m \u001b[0mself\u001b[0m\u001b[0;34m.\u001b[0m\u001b[0mplayer1\u001b[0m\u001b[0;34m[\u001b[0m\u001b[0;36m7\u001b[0m\u001b[0;34m-\u001b[0m\u001b[0mself\u001b[0m\u001b[0;34m.\u001b[0m\u001b[0maction\u001b[0m\u001b[0;34m]\u001b[0m \u001b[0;34m==\u001b[0m \u001b[0;36m0\u001b[0m \u001b[0;34m:\u001b[0m\u001b[0;34m\u001b[0m\u001b[0;34m\u001b[0m\u001b[0m\n\u001b[1;32m     41\u001b[0m         \u001b[0mprint\u001b[0m\u001b[0;34m(\u001b[0m\u001b[0;34m\"Illegal Move, play again :\"\u001b[0m\u001b[0;34m)\u001b[0m\u001b[0;34m\u001b[0m\u001b[0;34m\u001b[0m\u001b[0m\n",
            "\u001b[0;32m/usr/local/lib/python3.6/dist-packages/ipykernel/kernelbase.py\u001b[0m in \u001b[0;36mraw_input\u001b[0;34m(self, prompt)\u001b[0m\n\u001b[1;32m    703\u001b[0m             \u001b[0mself\u001b[0m\u001b[0;34m.\u001b[0m\u001b[0m_parent_ident\u001b[0m\u001b[0;34m,\u001b[0m\u001b[0;34m\u001b[0m\u001b[0;34m\u001b[0m\u001b[0m\n\u001b[1;32m    704\u001b[0m             \u001b[0mself\u001b[0m\u001b[0;34m.\u001b[0m\u001b[0m_parent_header\u001b[0m\u001b[0;34m,\u001b[0m\u001b[0;34m\u001b[0m\u001b[0;34m\u001b[0m\u001b[0m\n\u001b[0;32m--> 705\u001b[0;31m             \u001b[0mpassword\u001b[0m\u001b[0;34m=\u001b[0m\u001b[0;32mFalse\u001b[0m\u001b[0;34m,\u001b[0m\u001b[0;34m\u001b[0m\u001b[0;34m\u001b[0m\u001b[0m\n\u001b[0m\u001b[1;32m    706\u001b[0m         )\n\u001b[1;32m    707\u001b[0m \u001b[0;34m\u001b[0m\u001b[0m\n",
            "\u001b[0;32m/usr/local/lib/python3.6/dist-packages/ipykernel/kernelbase.py\u001b[0m in \u001b[0;36m_input_request\u001b[0;34m(self, prompt, ident, parent, password)\u001b[0m\n\u001b[1;32m    733\u001b[0m             \u001b[0;32mexcept\u001b[0m \u001b[0mKeyboardInterrupt\u001b[0m\u001b[0;34m:\u001b[0m\u001b[0;34m\u001b[0m\u001b[0;34m\u001b[0m\u001b[0m\n\u001b[1;32m    734\u001b[0m                 \u001b[0;31m# re-raise KeyboardInterrupt, to truncate traceback\u001b[0m\u001b[0;34m\u001b[0m\u001b[0;34m\u001b[0m\u001b[0;34m\u001b[0m\u001b[0m\n\u001b[0;32m--> 735\u001b[0;31m                 \u001b[0;32mraise\u001b[0m \u001b[0mKeyboardInterrupt\u001b[0m\u001b[0;34m\u001b[0m\u001b[0;34m\u001b[0m\u001b[0m\n\u001b[0m\u001b[1;32m    736\u001b[0m             \u001b[0;32melse\u001b[0m\u001b[0;34m:\u001b[0m\u001b[0;34m\u001b[0m\u001b[0;34m\u001b[0m\u001b[0m\n\u001b[1;32m    737\u001b[0m                 \u001b[0;32mbreak\u001b[0m\u001b[0;34m\u001b[0m\u001b[0;34m\u001b[0m\u001b[0m\n",
            "\u001b[0;31mKeyboardInterrupt\u001b[0m: "
          ]
        }
      ]
    },
    {
      "cell_type": "code",
      "metadata": {
        "id": "920TzxTVuRZL",
        "colab_type": "code",
        "colab": {}
      },
      "source": [
        "player1 = [0,4,4,4,4,4,4]\n",
        "player2 = [4,4,4,4,4,4,0]"
      ],
      "execution_count": 0,
      "outputs": []
    },
    {
      "cell_type": "code",
      "metadata": {
        "id": "RG09-Kl7qyNr",
        "colab_type": "code",
        "outputId": "60bc902d-8087-49e2-e94a-97ea96025d0f",
        "colab": {
          "base_uri": "https://localhost:8080/",
          "height": 139
        }
      },
      "source": [
        "print(\"       6   5    4     3    2    1\")\n",
        "print(\"    ------------------------------\")\n",
        "print(\"{:02}  | {:02} | {:02} | {:02} || {:02} | {:02} | {:02}\".format(*player1))\n",
        "print(\"---------------------------------------\")\n",
        "print(\"   | {:02} | {:02} | {:02} || {:02} | {:02} | {:02} | {:02}\".format(*player2))\n",
        "print(\"   --------------------------------\")\n",
        "print(\"      1    2    3     4    5    6\")"
      ],
      "execution_count": 0,
      "outputs": [
        {
          "output_type": "stream",
          "text": [
            "       6   5    4     3    2    1\n",
            "    ------------------------------\n",
            "00  | 04 | 04 | 04 || 04 | 04 | 04\n",
            "---------------------------------------\n",
            "   | 04 | 04 | 04 || 04 | 04 | 04 | 00\n",
            "   --------------------------------\n",
            "      1    2    3     4    5    6\n"
          ],
          "name": "stdout"
        }
      ]
    },
    {
      "cell_type": "code",
      "metadata": {
        "id": "-ETpu9RIsCMJ",
        "colab_type": "code",
        "outputId": "c5025edb-b47d-47ab-cf2b-ff428214cf05",
        "colab": {
          "base_uri": "https://localhost:8080/",
          "height": 34
        }
      },
      "source": [
        "print(\"{} {} {} {} {}\".format(*[1,2,3,4,5]))"
      ],
      "execution_count": 0,
      "outputs": [
        {
          "output_type": "stream",
          "text": [
            "1 2 3 4 5\n"
          ],
          "name": "stdout"
        }
      ]
    },
    {
      "cell_type": "code",
      "metadata": {
        "id": "tacxcQtGvgAZ",
        "colab_type": "code",
        "colab": {}
      },
      "source": [
        "class test :\n",
        "\n",
        "  ter = 1\n",
        "\n",
        "  def func(self):\n",
        "    test.ter = test.ter + 3\n",
        "    return self.ter\n",
        "\n",
        "  def func2(self):\n",
        "    return self.ter + 5"
      ],
      "execution_count": 0,
      "outputs": []
    },
    {
      "cell_type": "code",
      "metadata": {
        "id": "f6ldn3Faxut-",
        "colab_type": "code",
        "colab": {}
      },
      "source": [
        "jeet = test()"
      ],
      "execution_count": 0,
      "outputs": []
    },
    {
      "cell_type": "code",
      "metadata": {
        "id": "QP85Y7H5xwVG",
        "colab_type": "code",
        "outputId": "128060b5-5fe3-42e3-e4ed-573a04404fde",
        "colab": {
          "base_uri": "https://localhost:8080/",
          "height": 34
        }
      },
      "source": [
        "jeet.ter"
      ],
      "execution_count": 0,
      "outputs": [
        {
          "output_type": "execute_result",
          "data": {
            "text/plain": [
              "1"
            ]
          },
          "metadata": {
            "tags": []
          },
          "execution_count": 86
        }
      ]
    },
    {
      "cell_type": "code",
      "metadata": {
        "id": "MSrqYT-hxxeO",
        "colab_type": "code",
        "outputId": "0e75a9e7-46a9-4b88-d2e5-470f4ddc68f5",
        "colab": {
          "base_uri": "https://localhost:8080/",
          "height": 34
        }
      },
      "source": [
        "print(jeet.func())"
      ],
      "execution_count": 0,
      "outputs": [
        {
          "output_type": "stream",
          "text": [
            "4\n"
          ],
          "name": "stdout"
        }
      ]
    },
    {
      "cell_type": "code",
      "metadata": {
        "id": "-SSVqAQxxzhu",
        "colab_type": "code",
        "colab": {}
      },
      "source": [
        "jeet1 = test()"
      ],
      "execution_count": 0,
      "outputs": []
    },
    {
      "cell_type": "code",
      "metadata": {
        "id": "sxDOw7-iyqos",
        "colab_type": "code",
        "outputId": "6551fd1f-22f8-41f8-cb15-a9db4860beac",
        "colab": {
          "base_uri": "https://localhost:8080/",
          "height": 34
        }
      },
      "source": [
        "jeet1.ter"
      ],
      "execution_count": 0,
      "outputs": [
        {
          "output_type": "execute_result",
          "data": {
            "text/plain": [
              "4"
            ]
          },
          "metadata": {
            "tags": []
          },
          "execution_count": 89
        }
      ]
    },
    {
      "cell_type": "code",
      "metadata": {
        "id": "UEraT1fuyra0",
        "colab_type": "code",
        "outputId": "d481b289-cc96-4fc1-b927-23ef2563d23f",
        "colab": {
          "base_uri": "https://localhost:8080/",
          "height": 34
        }
      },
      "source": [
        "[1] + [4,5]"
      ],
      "execution_count": 0,
      "outputs": [
        {
          "output_type": "execute_result",
          "data": {
            "text/plain": [
              "[1, 4, 5]"
            ]
          },
          "metadata": {
            "tags": []
          },
          "execution_count": 92
        }
      ]
    },
    {
      "cell_type": "code",
      "metadata": {
        "id": "tWOJqH7T19nK",
        "colab_type": "code",
        "colab": {}
      },
      "source": [
        "player1 = [0] + [4]*6"
      ],
      "execution_count": 0,
      "outputs": []
    },
    {
      "cell_type": "code",
      "metadata": {
        "id": "RqZT9lak2M11",
        "colab_type": "code",
        "outputId": "23cc91a0-0394-41ea-e9bb-aebe790eb58d",
        "colab": {
          "base_uri": "https://localhost:8080/",
          "height": 34
        }
      },
      "source": [
        "player1"
      ],
      "execution_count": 0,
      "outputs": [
        {
          "output_type": "execute_result",
          "data": {
            "text/plain": [
              "[0, 4, 4, 4, 4, 4, 4]"
            ]
          },
          "metadata": {
            "tags": []
          },
          "execution_count": 94
        }
      ]
    },
    {
      "cell_type": "code",
      "metadata": {
        "id": "d_8sB6ET2N0V",
        "colab_type": "code",
        "colab": {}
      },
      "source": [
        "a =3\n",
        "b=5\n",
        "if a == 3 and b == 4 : \n",
        "  print(\"Yay\")"
      ],
      "execution_count": 0,
      "outputs": []
    },
    {
      "cell_type": "code",
      "metadata": {
        "id": "vuGiZZd6IYZW",
        "colab_type": "code",
        "colab": {
          "base_uri": "https://localhost:8080/",
          "height": 34
        },
        "outputId": "fdd5099b-8897-4905-e025-0a1b7aaf062d"
      },
      "source": [
        "listi = [1,2,3,4,5]\n",
        "listi[:-1]"
      ],
      "execution_count": 147,
      "outputs": [
        {
          "output_type": "execute_result",
          "data": {
            "text/plain": [
              "[1, 2, 3, 4]"
            ]
          },
          "metadata": {
            "tags": []
          },
          "execution_count": 147
        }
      ]
    },
    {
      "cell_type": "code",
      "metadata": {
        "id": "8K13b5d3LB08",
        "colab_type": "code",
        "colab": {
          "base_uri": "https://localhost:8080/",
          "height": 86
        },
        "outputId": "1d47b421-b151-4475-fcd9-21bb8b3495e9"
      },
      "source": [
        "for i in range(4):\n",
        "  print(i)"
      ],
      "execution_count": 161,
      "outputs": [
        {
          "output_type": "stream",
          "text": [
            "0\n",
            "1\n",
            "2\n",
            "3\n"
          ],
          "name": "stdout"
        }
      ]
    },
    {
      "cell_type": "code",
      "metadata": {
        "id": "UeKbk0POLaAU",
        "colab_type": "code",
        "colab": {
          "base_uri": "https://localhost:8080/",
          "height": 34
        },
        "outputId": "18096257-3052-44f8-9271-09aa0ff12b1f"
      },
      "source": [
        "listi"
      ],
      "execution_count": 169,
      "outputs": [
        {
          "output_type": "execute_result",
          "data": {
            "text/plain": [
              "[5, 100, 3, 2, 1]"
            ]
          },
          "metadata": {
            "tags": []
          },
          "execution_count": 169
        }
      ]
    },
    {
      "cell_type": "code",
      "metadata": {
        "id": "hCFt2axTYKxE",
        "colab_type": "code",
        "colab": {}
      },
      "source": [
        "listi[3] = 100"
      ],
      "execution_count": 0,
      "outputs": []
    },
    {
      "cell_type": "code",
      "metadata": {
        "id": "-kvoaAl9YNPM",
        "colab_type": "code",
        "colab": {}
      },
      "source": [
        "listi = [1,2,3]"
      ],
      "execution_count": 0,
      "outputs": []
    },
    {
      "cell_type": "code",
      "metadata": {
        "id": "8QpvualbYN4-",
        "colab_type": "code",
        "colab": {
          "base_uri": "https://localhost:8080/",
          "height": 34
        },
        "outputId": "48cd747e-1746-4e54-d068-9d73a6b59aef"
      },
      "source": [
        "listi.reverse()\n",
        "listi"
      ],
      "execution_count": 173,
      "outputs": [
        {
          "output_type": "execute_result",
          "data": {
            "text/plain": [
              "[1, 2, 3]"
            ]
          },
          "metadata": {
            "tags": []
          },
          "execution_count": 173
        }
      ]
    },
    {
      "cell_type": "code",
      "metadata": {
        "id": "w65nAsSMZMTg",
        "colab_type": "code",
        "colab": {
          "base_uri": "https://localhost:8080/",
          "height": 34
        },
        "outputId": "64da710d-dbf8-42e8-8a66-bd27c99cb7b8"
      },
      "source": [
        "15%13"
      ],
      "execution_count": 181,
      "outputs": [
        {
          "output_type": "execute_result",
          "data": {
            "text/plain": [
              "2"
            ]
          },
          "metadata": {
            "tags": []
          },
          "execution_count": 181
        }
      ]
    },
    {
      "cell_type": "code",
      "metadata": {
        "id": "RGXWzf3Sdumw",
        "colab_type": "code",
        "colab": {}
      },
      "source": [
        "\n",
        "    if self.player_flag == 1 :\n",
        "      print(\"Player 1's turn : \") \n",
        "      self.action = int(input())\n",
        "      if self.action > 6 or self.player1[7-self.action] == 0 :\n",
        "        print(\"Illegal Move, play again :\")\n",
        "        self.play()\n",
        "      else :\n",
        "        stones = self.player1[7-self.action]\n",
        "        dividend = int(self.player1[7-self.action]/13)\n",
        "        remainder = self.player1[7-self.action] % 13\n",
        "        for i in self.player1:\n",
        "          i = i + dividend\n",
        "        for i in self.player2[:-1]:\n",
        "          i = i + dividend\n",
        "        if remainder > 7-self.action :\n",
        "          for i in range(7-self.action):\n",
        "            i = i + 1\n",
        "          for i in range(remainder - 7 - self.action):\n",
        "            i = i + 1\n",
        "        else : \n",
        "          for i in range(self.player1[7 - self.action]):\n",
        "            self.player1[7 - self.action - 1 -i] = self.player1[7 - self.action - 1 -i] + 1 \n",
        "\n",
        "        print(self)\n",
        "        #Change player flag to 2\n",
        "        self.play()\n",
        "    "
      ],
      "execution_count": 0,
      "outputs": []
    }
  ]
}