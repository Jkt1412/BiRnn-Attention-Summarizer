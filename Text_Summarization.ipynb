{
  "nbformat": 4,
  "nbformat_minor": 0,
  "metadata": {
    "colab": {
      "name": "Text_Summarization.ipynb",
      "version": "0.3.2",
      "provenance": [],
      "collapsed_sections": [],
      "include_colab_link": true
    },
    "kernelspec": {
      "display_name": "Python 3",
      "language": "python",
      "name": "python3"
    },
    "accelerator": "GPU"
  },
  "cells": [
    {
      "cell_type": "markdown",
      "metadata": {
        "id": "view-in-github",
        "colab_type": "text"
      },
      "source": [
        "<a href=\"https://colab.research.google.com/github/Jkt1412/BiRnn-Attention-Summarizer/blob/master/Text_Summarization.ipynb\" target=\"_parent\"><img src=\"https://colab.research.google.com/assets/colab-badge.svg\" alt=\"Open In Colab\"/></a>"
      ]
    },
    {
      "metadata": {
        "colab_type": "text",
        "id": "jvTzv024CFxE"
      },
      "cell_type": "markdown",
      "source": [
        "# Get BBC Dataset"
      ]
    },
    {
      "metadata": {
        "colab_type": "code",
        "id": "-Ss8zFVjCxhN",
        "outputId": "fd042f3e-a8ec-4dca-8c08-99db43e2842c",
        "colab": {
          "base_uri": "https://localhost:8080/",
          "height": 122
        }
      },
      "cell_type": "code",
      "source": [
        "from google.colab import drive\n",
        "drive.mount(\"./gdrive\")"
      ],
      "execution_count": 2,
      "outputs": [
        {
          "output_type": "stream",
          "text": [
            "Go to this URL in a browser: https://accounts.google.com/o/oauth2/auth?client_id=947318989803-6bn6qk8qdgf4n4g3pfee6491hc0brc4i.apps.googleusercontent.com&redirect_uri=urn%3Aietf%3Awg%3Aoauth%3A2.0%3Aoob&scope=email%20https%3A%2F%2Fwww.googleapis.com%2Fauth%2Fdocs.test%20https%3A%2F%2Fwww.googleapis.com%2Fauth%2Fdrive%20https%3A%2F%2Fwww.googleapis.com%2Fauth%2Fdrive.photos.readonly%20https%3A%2F%2Fwww.googleapis.com%2Fauth%2Fpeopleapi.readonly&response_type=code\n",
            "\n",
            "Enter your authorization code:\n",
            "··········\n",
            "Mounted at ./gdrive\n"
          ],
          "name": "stdout"
        }
      ]
    },
    {
      "metadata": {
        "colab_type": "code",
        "id": "X33wMiJNDV5U",
        "outputId": "d95f0468-7f21-451d-d970-4a0fb568f91d",
        "colab": {
          "base_uri": "https://localhost:8080/",
          "height": 34
        }
      },
      "cell_type": "code",
      "source": [
        "cd gdrive/My\\ Drive/Colab\\ Notebooks/Datasets/Text\\ Summarization"
      ],
      "execution_count": 3,
      "outputs": [
        {
          "output_type": "stream",
          "text": [
            "/content/gdrive/My Drive/Colab Notebooks/Datasets/Text Summarization\n"
          ],
          "name": "stdout"
        }
      ]
    },
    {
      "metadata": {
        "colab_type": "code",
        "id": "eXmwymrPDflS",
        "colab": {}
      },
      "cell_type": "code",
      "source": [
        "import pickle \n",
        "with open('myfile.pkl','rb') as fp:\n",
        "  heading, article = pickle.load(fp)"
      ],
      "execution_count": 0,
      "outputs": []
    },
    {
      "metadata": {
        "id": "NzWaAh-ihQA8",
        "colab_type": "code",
        "outputId": "cbcbd2f4-626f-42f6-ec50-b3314fd63f6b",
        "colab": {
          "base_uri": "https://localhost:8080/",
          "height": 54
        }
      },
      "cell_type": "code",
      "source": [
        "article[1]"
      ],
      "execution_count": 0,
      "outputs": [
        {
          "output_type": "execute_result",
          "data": {
            "text/plain": [
              "'New Product Gives Marketers Access to Real Keywords, Conversions and Results Along With 13 Months of Historical Data \\n\\nSAN FRANCISCO, CA -- (Marketwired) -- 09/17/15 -- Jumpshot, a marketing analytics company that uses distinctive data sources to paint a complete picture of the online customer journey, today announced the launch of Jumpshot Elite, giving marketers insight into what their customers are doing the 99% of the time they\\'re not on your site. For years, marketers have been unable to see what organic and paid search terms users were entering, much less tie those searches to purchases. Jumpshot not only injects that user search visibility back into the market, but also makes it possible to tie those keywords to conversions -- for any web site. \\n\\n\"Ever since search engines encrypted search results, marketers have been in the dark about keywords, impacting not only the insight into their own search investments, but also their ability to unearth high converting keywords for their competitors,\" said Deren Baker, CEO of Jumpshot. \"Our platform eliminates the hacks, assumptions, and guesswork that marketers are doing now and provides real data: actual searches tied to actual conversions conducted by real people with nothing inferred.\" \\n\\nUnlike other keyword research tools that receive data through the Adwords API or send bots to cobble together various data inputs and implied metrics, Jumpshot leverages its panel of over 115 million global consumers to analyze real search activity. As a result, Jumpshot is able to provide companies with actionable data to improve the ROI of their search marketing campaigns, SEO tactics and content marketing initiatives. \\n\\nAvailable today, Jumpshot Elite provides 13 months of backward-looking data as well as: \\n\\nAccess to real queries used by searchers \\n\\nPaid and organic results for any website \\n\\nVisibility into organic keywords, eliminating the \"not provided\" outcome in web analytics \\n\\nReal user queries, clicks and transactions instead of machine-generated clicks with inferred results \\n\\nAbility to tie keywords to real transactions on any website \\n\\nVariable attribution models and lookback windows \\n\\nLaunched in January, 2015, Jumpshot grew out of the ambitions of a group of smart marketers and data scientists who were frustrated about the limitations of the data they had access to, and excited about the opportunity to provide new insights into online behavior. \\n\\nThe company uses distinctive data sources to paint a complete picture of the online world for businesses, from where customers spend time online to what they do there and how they get from place to place. By tracking the online customer journey down to each click, Jumpshot reveals how and why customers arrive at purchase decisions. The company tracks more data in more detail than other services, tracking 160 billion monthly clicks generated by its extensive data panel. \\n\\nAbout Jumpshot \\n\\nJumpshot is a marketing analytics platform that reveals the entire customer journey -- from the key sources of traffic to a site, to browsing and buying behavior on any domain. With a panel of 115 million users, Jumpshot provides marketers with the insight to understand what their customers are doing the 99% of the time they\\'re not on their own site -- a scope of information never before attainable. Jumpshot was founded in 2015 and is headquartered in San Francisco. \\n\\nFor more information, please visit www.jumpshot.com. \\n\\nImage Available: http://www2.marketwire.com/mw/frame_mw?attachid=2889222 \\n\\nKelly Mayes \\n\\nThe Bulleit Group \\n\\n615-200-8845 \\n\\nPublished Sep. 17, 2015 \\n\\nCopyright © 2015 SYS-CON Media, Inc. — All Rights Reserved. \\n\\nSyndicated stories and blog feeds, all rights reserved by the author.'"
            ]
          },
          "metadata": {
            "tags": []
          },
          "execution_count": 10
        }
      ]
    },
    {
      "metadata": {
        "id": "-ouKCPCWbw1b",
        "colab_type": "code",
        "outputId": "4ee33be6-3eb9-4514-ca1d-08514cf8f9b8",
        "colab": {
          "base_uri": "https://localhost:8080/",
          "height": 34
        }
      },
      "cell_type": "code",
      "source": [
        "heading[1]"
      ],
      "execution_count": 0,
      "outputs": [
        {
          "output_type": "execute_result",
          "data": {
            "text/plain": [
              "'Jumpshot Gives Marketers Renewed Visibility Into Paid and Organic Keywords With Launch of Jumpshot Elite'"
            ]
          },
          "metadata": {
            "tags": []
          },
          "execution_count": 9
        }
      ]
    },
    {
      "metadata": {
        "colab_type": "text",
        "id": "szyhdhBkEVgi"
      },
      "cell_type": "markdown",
      "source": [
        "**Data from BBC News Dataset Loaded. The variables are *heading* and *article***"
      ]
    },
    {
      "metadata": {
        "colab_type": "text",
        "id": "6eaGtlz-E3Yx"
      },
      "cell_type": "markdown",
      "source": [
        "# Preprocess the Data , remove the \\n\\n and \\xa0 , lower case everything  (stemming/lemmatization advantageous? Try it out later)\n",
        "\n",
        "## I think I should keep the comma's in for now , maybe the Attention mechanism later would find words near a comma a good place to give attention to"
      ]
    },
    {
      "metadata": {
        "colab_type": "code",
        "id": "xVg5fSryGfAF",
        "colab": {}
      },
      "cell_type": "code",
      "source": [
        "heading = [h.lower() for h in heading]\n",
        "article = [a.lower() for a in article]"
      ],
      "execution_count": 0,
      "outputs": []
    },
    {
      "metadata": {
        "colab_type": "code",
        "id": "7wC_iQj2GmP0",
        "colab": {}
      },
      "cell_type": "code",
      "source": [
        "article = [a.replace('\\n','').replace('\\xa0',' ') for a in article]"
      ],
      "execution_count": 0,
      "outputs": []
    },
    {
      "metadata": {
        "id": "Uj4Eii5gb-yy",
        "colab_type": "code",
        "outputId": "9dadce87-317e-4f0f-9885-ba29afa82e93",
        "colab": {
          "base_uri": "https://localhost:8080/",
          "height": 54
        }
      },
      "cell_type": "code",
      "source": [
        "article[1]"
      ],
      "execution_count": 0,
      "outputs": [
        {
          "output_type": "execute_result",
          "data": {
            "text/plain": [
              "'new product gives marketers access to real keywords, conversions and results along with 13 months of historical data san francisco, ca -- (marketwired) -- 09/17/15 -- jumpshot, a marketing analytics company that uses distinctive data sources to paint a complete picture of the online customer journey, today announced the launch of jumpshot elite, giving marketers insight into what their customers are doing the 99% of the time they\\'re not on your site. for years, marketers have been unable to see what organic and paid search terms users were entering, much less tie those searches to purchases. jumpshot not only injects that user search visibility back into the market, but also makes it possible to tie those keywords to conversions -- for any web site. \"ever since search engines encrypted search results, marketers have been in the dark about keywords, impacting not only the insight into their own search investments, but also their ability to unearth high converting keywords for their competitors,\" said deren baker, ceo of jumpshot. \"our platform eliminates the hacks, assumptions, and guesswork that marketers are doing now and provides real data: actual searches tied to actual conversions conducted by real people with nothing inferred.\" unlike other keyword research tools that receive data through the adwords api or send bots to cobble together various data inputs and implied metrics, jumpshot leverages its panel of over 115 million global consumers to analyze real search activity. as a result, jumpshot is able to provide companies with actionable data to improve the roi of their search marketing campaigns, seo tactics and content marketing initiatives. available today, jumpshot elite provides 13 months of backward-looking data as well as: access to real queries used by searchers paid and organic results for any website visibility into organic keywords, eliminating the \"not provided\" outcome in web analytics real user queries, clicks and transactions instead of machine-generated clicks with inferred results ability to tie keywords to real transactions on any website variable attribution models and lookback windows launched in january, 2015, jumpshot grew out of the ambitions of a group of smart marketers and data scientists who were frustrated about the limitations of the data they had access to, and excited about the opportunity to provide new insights into online behavior. the company uses distinctive data sources to paint a complete picture of the online world for businesses, from where customers spend time online to what they do there and how they get from place to place. by tracking the online customer journey down to each click, jumpshot reveals how and why customers arrive at purchase decisions. the company tracks more data in more detail than other services, tracking 160 billion monthly clicks generated by its extensive data panel. about jumpshot jumpshot is a marketing analytics platform that reveals the entire customer journey -- from the key sources of traffic to a site, to browsing and buying behavior on any domain. with a panel of 115 million users, jumpshot provides marketers with the insight to understand what their customers are doing the 99% of the time they\\'re not on their own site -- a scope of information never before attainable. jumpshot was founded in 2015 and is headquartered in san francisco. for more information, please visit www.jumpshot.com. image available: http://www2.marketwire.com/mw/frame_mw?attachid=2889222 kelly mayes the bulleit group 615-200-8845 published sep. 17, 2015 copyright © 2015 sys-con media, inc. — all rights reserved. syndicated stories and blog feeds, all rights reserved by the author.'"
            ]
          },
          "metadata": {
            "tags": []
          },
          "execution_count": 13
        }
      ]
    },
    {
      "metadata": {
        "id": "MW_j9LF7cCiT",
        "colab_type": "code",
        "outputId": "d0d1c783-f64c-4c0a-d78a-f9367bcde256",
        "colab": {
          "base_uri": "https://localhost:8080/",
          "height": 34
        }
      },
      "cell_type": "code",
      "source": [
        "heading[1]"
      ],
      "execution_count": 0,
      "outputs": [
        {
          "output_type": "execute_result",
          "data": {
            "text/plain": [
              "'jumpshot gives marketers renewed visibility into paid and organic keywords with launch of jumpshot elite'"
            ]
          },
          "metadata": {
            "tags": []
          },
          "execution_count": 14
        }
      ]
    },
    {
      "metadata": {
        "colab_type": "text",
        "id": "pDC4tH40I-2C"
      },
      "cell_type": "markdown",
      "source": [
        "# Toeknize the data , Make Word Embeddings from GloVe\n",
        "\n",
        "## Mainly what I have to do is make a matrix of size (vocab_size, 100) which I can initialize as my weight matrix. Be careful, for now I am assuming no new words can appear in a text other than the ones I have seen before , so later if this works improve it to take in other words too"
      ]
    },
    {
      "metadata": {
        "colab_type": "code",
        "id": "J4THBv0WJF6k",
        "colab": {}
      },
      "cell_type": "code",
      "source": [
        "word_dimensions = 100\n",
        "import pandas as pd\n",
        "df = pd.read_csv('glove.6B.100d.txt', sep=\" \", quoting=3, header=None, index_col=0)"
      ],
      "execution_count": 0,
      "outputs": []
    },
    {
      "metadata": {
        "colab_type": "code",
        "id": "nE9viBdPNO1r",
        "colab": {}
      },
      "cell_type": "code",
      "source": [
        "glove = {key: val.values for key, val in df.T.items()}"
      ],
      "execution_count": 0,
      "outputs": []
    },
    {
      "metadata": {
        "colab_type": "code",
        "id": "g1YyKHeQFjJ0",
        "colab": {}
      },
      "cell_type": "code",
      "source": [
        "import nltk\n",
        "from collections import Counter\n",
        "import numpy as np"
      ],
      "execution_count": 0,
      "outputs": []
    },
    {
      "metadata": {
        "colab_type": "code",
        "id": "m3kYN7skNU2G",
        "colab": {}
      },
      "cell_type": "code",
      "source": [
        "words = []\n",
        "tokenizer = nltk.tokenize.WordPunctTokenizer()\n",
        "for a in article:\n",
        "  tokenized_text = tokenizer.tokenize(a)\n",
        "  for tokens in tokenized_text:\n",
        "    words.append(tokens)\n",
        "    \n",
        "for h in heading:\n",
        "  tokenized_text = tokenizer.tokenize(h)\n",
        "  for tokens in tokenized_text:\n",
        "    words.append(tokens)"
      ],
      "execution_count": 0,
      "outputs": []
    },
    {
      "metadata": {
        "id": "5SxM19TaOaDd",
        "colab_type": "code",
        "outputId": "f5275f54-4998-43c7-fecc-9b5105dd972b",
        "colab": {
          "base_uri": "https://localhost:8080/",
          "height": 17034
        }
      },
      "cell_type": "code",
      "source": [
        "words"
      ],
      "execution_count": 0,
      "outputs": [
        {
          "output_type": "execute_result",
          "data": {
            "text/plain": [
              "['veterans',\n",
              " 'saluted',\n",
              " 'worcester',\n",
              " \"'\",\n",
              " 's',\n",
              " 'first',\n",
              " 'ever',\n",
              " 'breakfast',\n",
              " 'club',\n",
              " 'for',\n",
              " 'ex',\n",
              " '-',\n",
              " 'soldiers',\n",
              " 'which',\n",
              " 'won',\n",
              " 'over',\n",
              " 'hearts',\n",
              " ',',\n",
              " 'minds',\n",
              " 'and',\n",
              " 'bellies',\n",
              " '.',\n",
              " 'the',\n",
              " 'worcester',\n",
              " 'breakfast',\n",
              " 'club',\n",
              " 'for',\n",
              " 'hm',\n",
              " 'forces',\n",
              " 'veterans',\n",
              " 'met',\n",
              " 'at',\n",
              " 'the',\n",
              " 'postal',\n",
              " 'order',\n",
              " 'in',\n",
              " 'foregate',\n",
              " 'street',\n",
              " 'at',\n",
              " '10am',\n",
              " 'on',\n",
              " 'saturday',\n",
              " '.',\n",
              " 'the',\n",
              " 'club',\n",
              " 'is',\n",
              " 'designed',\n",
              " 'to',\n",
              " 'allow',\n",
              " 'veterans',\n",
              " 'a',\n",
              " 'place',\n",
              " 'to',\n",
              " 'meet',\n",
              " ',',\n",
              " 'socialise',\n",
              " ',',\n",
              " 'eat',\n",
              " 'and',\n",
              " 'drink',\n",
              " ',',\n",
              " 'giving',\n",
              " 'hunger',\n",
              " 'and',\n",
              " 'loneliness',\n",
              " 'their',\n",
              " 'marching',\n",
              " 'orders',\n",
              " '.',\n",
              " 'father',\n",
              " '-',\n",
              " 'of',\n",
              " '-',\n",
              " 'two',\n",
              " 'dave',\n",
              " 'carney',\n",
              " ',',\n",
              " 'aged',\n",
              " '43',\n",
              " ',',\n",
              " 'of',\n",
              " 'merrimans',\n",
              " 'hill',\n",
              " ',',\n",
              " 'worcester',\n",
              " ',',\n",
              " 'set',\n",
              " 'up',\n",
              " 'the',\n",
              " 'club',\n",
              " 'after',\n",
              " 'being',\n",
              " 'inspired',\n",
              " 'by',\n",
              " 'other',\n",
              " 'similar',\n",
              " 'clubs',\n",
              " 'across',\n",
              " 'the',\n",
              " 'country',\n",
              " '.',\n",
              " 'he',\n",
              " 'said',\n",
              " ':',\n",
              " '\"',\n",
              " 'as',\n",
              " 'you',\n",
              " 'can',\n",
              " 'see',\n",
              " 'from',\n",
              " 'the',\n",
              " 'picture',\n",
              " ',',\n",
              " 'we',\n",
              " 'had',\n",
              " 'a',\n",
              " 'good',\n",
              " 'response',\n",
              " '.',\n",
              " 'five',\n",
              " 'out',\n",
              " 'of',\n",
              " 'the',\n",
              " '10',\n",
              " 'that',\n",
              " 'attended',\n",
              " 'said',\n",
              " 'they',\n",
              " 'saw',\n",
              " 'the',\n",
              " 'article',\n",
              " 'in',\n",
              " 'the',\n",
              " 'newspaper',\n",
              " 'and',\n",
              " 'turned',\n",
              " 'up',\n",
              " '.',\n",
              " '\"',\n",
              " 'we',\n",
              " 'even',\n",
              " 'had',\n",
              " 'an',\n",
              " 'old',\n",
              " 'chap',\n",
              " 'travel',\n",
              " 'from',\n",
              " 'droitwich',\n",
              " 'and',\n",
              " 'he',\n",
              " 'was',\n",
              " 'late',\n",
              " 'on',\n",
              " 'parade',\n",
              " 'by',\n",
              " 'three',\n",
              " 'hours',\n",
              " '.',\n",
              " '\"',\n",
              " 'it',\n",
              " \"'\",\n",
              " 's',\n",
              " 'generated',\n",
              " 'a',\n",
              " 'lot',\n",
              " 'of',\n",
              " 'interest',\n",
              " 'and',\n",
              " 'i',\n",
              " 'estimate',\n",
              " '(',\n",
              " 'from',\n",
              " 'other',\n",
              " 'veterans',\n",
              " 'who',\n",
              " 'saw',\n",
              " 'the',\n",
              " 'article',\n",
              " ')',\n",
              " 'that',\n",
              " 'next',\n",
              " 'month',\n",
              " \"'\",\n",
              " 's',\n",
              " 'meeting',\n",
              " 'will',\n",
              " 'attract',\n",
              " 'about',\n",
              " '20',\n",
              " 'people',\n",
              " '.',\n",
              " 'onwards',\n",
              " 'and',\n",
              " 'upwards',\n",
              " '.\"',\n",
              " 'he',\n",
              " 'said',\n",
              " 'the',\n",
              " 'management',\n",
              " 'at',\n",
              " 'the',\n",
              " 'pub',\n",
              " 'had',\n",
              " 'been',\n",
              " 'extremely',\n",
              " 'hospitable',\n",
              " 'to',\n",
              " 'them',\n",
              " '.',\n",
              " 'mr',\n",
              " 'carney',\n",
              " 'said',\n",
              " ':',\n",
              " '\"',\n",
              " 'they',\n",
              " 'bent',\n",
              " 'over',\n",
              " 'backwards',\n",
              " 'for',\n",
              " 'us',\n",
              " '.',\n",
              " 'they',\n",
              " 'really',\n",
              " 'looked',\n",
              " 'after',\n",
              " 'us',\n",
              " 'well',\n",
              " '.',\n",
              " 'that',\n",
              " 'is',\n",
              " 'the',\n",
              " 'best',\n",
              " 'choice',\n",
              " 'of',\n",
              " 'venue',\n",
              " 'i',\n",
              " 'could',\n",
              " 'have',\n",
              " 'made',\n",
              " '.',\n",
              " 'they',\n",
              " 'even',\n",
              " 'put',\n",
              " \"'\",\n",
              " 'reserved',\n",
              " 'for',\n",
              " 'the',\n",
              " 'armed',\n",
              " 'forces',\n",
              " \"'.\",\n",
              " 'promoted',\n",
              " 'stories',\n",
              " 'the',\n",
              " 'reserve',\n",
              " 'veteran',\n",
              " 'with',\n",
              " 'the',\n",
              " 'royal',\n",
              " 'engineers',\n",
              " 'wanted',\n",
              " 'to',\n",
              " 'go',\n",
              " 'to',\n",
              " 'a',\n",
              " 'breakfast',\n",
              " 'club',\n",
              " 'but',\n",
              " 'found',\n",
              " 'the',\n",
              " 'nearest',\n",
              " 'ones',\n",
              " 'were',\n",
              " 'in',\n",
              " 'bromsgrove',\n",
              " 'and',\n",
              " 'gloucester',\n",
              " 'so',\n",
              " 'he',\n",
              " 'decided',\n",
              " 'to',\n",
              " 'set',\n",
              " 'up',\n",
              " 'his',\n",
              " 'own',\n",
              " ',',\n",
              " 'closer',\n",
              " 'to',\n",
              " 'home',\n",
              " '.',\n",
              " 'he',\n",
              " 'was',\n",
              " 'influenced',\n",
              " 'by',\n",
              " 'derek',\n",
              " 'hardman',\n",
              " 'who',\n",
              " 'set',\n",
              " 'up',\n",
              " 'a',\n",
              " 'breakfast',\n",
              " 'club',\n",
              " 'for',\n",
              " 'veterans',\n",
              " 'in',\n",
              " 'hull',\n",
              " 'and',\n",
              " 'andy',\n",
              " 'wilson',\n",
              " 'who',\n",
              " 'set',\n",
              " 'one',\n",
              " 'up',\n",
              " 'in',\n",
              " 'newcastle',\n",
              " '.',\n",
              " 'he',\n",
              " 'said',\n",
              " 'the',\n",
              " 'idea',\n",
              " 'has',\n",
              " 'snowballed',\n",
              " 'and',\n",
              " 'there',\n",
              " 'were',\n",
              " 'now',\n",
              " '70',\n",
              " 'similar',\n",
              " 'clubs',\n",
              " 'across',\n",
              " 'the',\n",
              " 'country',\n",
              " 'and',\n",
              " 'even',\n",
              " 'some',\n",
              " 'in',\n",
              " 'germany',\n",
              " '.',\n",
              " 'mr',\n",
              " 'carney',\n",
              " 'said',\n",
              " 'with',\n",
              " 'many',\n",
              " 'royal',\n",
              " 'british',\n",
              " 'legion',\n",
              " 'clubs',\n",
              " 'closing',\n",
              " 'he',\n",
              " 'wanted',\n",
              " 'veterans',\n",
              " 'and',\n",
              " 'serving',\n",
              " 'personnel',\n",
              " 'to',\n",
              " 'feel',\n",
              " 'they',\n",
              " 'had',\n",
              " 'somewhere',\n",
              " 'they',\n",
              " 'could',\n",
              " 'go',\n",
              " 'for',\n",
              " 'good',\n",
              " 'grub',\n",
              " ',',\n",
              " 'beer',\n",
              " 'and',\n",
              " 'banter',\n",
              " 'to',\n",
              " 'recapture',\n",
              " 'the',\n",
              " 'comradery',\n",
              " 'of',\n",
              " 'being',\n",
              " 'in',\n",
              " 'the',\n",
              " 'forces',\n",
              " '.',\n",
              " 'the',\n",
              " 'postal',\n",
              " 'order',\n",
              " 'was',\n",
              " 'chosen',\n",
              " 'because',\n",
              " 'of',\n",
              " 'its',\n",
              " 'central',\n",
              " 'location',\n",
              " 'and',\n",
              " 'its',\n",
              " 'proximity',\n",
              " 'to',\n",
              " 'the',\n",
              " 'railway',\n",
              " 'station',\n",
              " 'and',\n",
              " 'hotels',\n",
              " 'and',\n",
              " 'reasonably',\n",
              " 'priced',\n",
              " 'food',\n",
              " 'and',\n",
              " 'drink',\n",
              " '.',\n",
              " 'the',\n",
              " 'management',\n",
              " 'of',\n",
              " 'the',\n",
              " 'pub',\n",
              " 'have',\n",
              " 'even',\n",
              " 'given',\n",
              " 'the',\n",
              " 'veterans',\n",
              " 'a',\n",
              " 'designated',\n",
              " 'area',\n",
              " 'within',\n",
              " 'the',\n",
              " 'pub',\n",
              " '.',\n",
              " 'share',\n",
              " 'article',\n",
              " 'the',\n",
              " 'next',\n",
              " 'meeting',\n",
              " 'is',\n",
              " 'at',\n",
              " 'the',\n",
              " 'postal',\n",
              " 'order',\n",
              " 'on',\n",
              " 'saturday',\n",
              " ',',\n",
              " 'october',\n",
              " '3',\n",
              " 'at',\n",
              " '10am',\n",
              " '.',\n",
              " 'the',\n",
              " 'breakfast',\n",
              " 'club',\n",
              " 'meets',\n",
              " 'on',\n",
              " 'the',\n",
              " 'first',\n",
              " 'saturday',\n",
              " 'of',\n",
              " 'each',\n",
              " 'month',\n",
              " 'for',\n",
              " 'those',\n",
              " 'who',\n",
              " 'want',\n",
              " 'to',\n",
              " 'attend',\n",
              " 'in',\n",
              " 'future',\n",
              " '.',\n",
              " 'new',\n",
              " 'product',\n",
              " 'gives',\n",
              " 'marketers',\n",
              " 'access',\n",
              " 'to',\n",
              " 'real',\n",
              " 'keywords',\n",
              " ',',\n",
              " 'conversions',\n",
              " 'and',\n",
              " 'results',\n",
              " 'along',\n",
              " 'with',\n",
              " '13',\n",
              " 'months',\n",
              " 'of',\n",
              " 'historical',\n",
              " 'data',\n",
              " 'san',\n",
              " 'francisco',\n",
              " ',',\n",
              " 'ca',\n",
              " '--',\n",
              " '(',\n",
              " 'marketwired',\n",
              " ')',\n",
              " '--',\n",
              " '09',\n",
              " '/',\n",
              " '17',\n",
              " '/',\n",
              " '15',\n",
              " '--',\n",
              " 'jumpshot',\n",
              " ',',\n",
              " 'a',\n",
              " 'marketing',\n",
              " 'analytics',\n",
              " 'company',\n",
              " 'that',\n",
              " 'uses',\n",
              " 'distinctive',\n",
              " 'data',\n",
              " 'sources',\n",
              " 'to',\n",
              " 'paint',\n",
              " 'a',\n",
              " 'complete',\n",
              " 'picture',\n",
              " 'of',\n",
              " 'the',\n",
              " 'online',\n",
              " 'customer',\n",
              " 'journey',\n",
              " ',',\n",
              " 'today',\n",
              " 'announced',\n",
              " 'the',\n",
              " 'launch',\n",
              " 'of',\n",
              " 'jumpshot',\n",
              " 'elite',\n",
              " ',',\n",
              " 'giving',\n",
              " 'marketers',\n",
              " 'insight',\n",
              " 'into',\n",
              " 'what',\n",
              " 'their',\n",
              " 'customers',\n",
              " 'are',\n",
              " 'doing',\n",
              " 'the',\n",
              " '99',\n",
              " '%',\n",
              " 'of',\n",
              " 'the',\n",
              " 'time',\n",
              " 'they',\n",
              " \"'\",\n",
              " 're',\n",
              " 'not',\n",
              " 'on',\n",
              " 'your',\n",
              " 'site',\n",
              " '.',\n",
              " 'for',\n",
              " 'years',\n",
              " ',',\n",
              " 'marketers',\n",
              " 'have',\n",
              " 'been',\n",
              " 'unable',\n",
              " 'to',\n",
              " 'see',\n",
              " 'what',\n",
              " 'organic',\n",
              " 'and',\n",
              " 'paid',\n",
              " 'search',\n",
              " 'terms',\n",
              " 'users',\n",
              " 'were',\n",
              " 'entering',\n",
              " ',',\n",
              " 'much',\n",
              " 'less',\n",
              " 'tie',\n",
              " 'those',\n",
              " 'searches',\n",
              " 'to',\n",
              " 'purchases',\n",
              " '.',\n",
              " 'jumpshot',\n",
              " 'not',\n",
              " 'only',\n",
              " 'injects',\n",
              " 'that',\n",
              " 'user',\n",
              " 'search',\n",
              " 'visibility',\n",
              " 'back',\n",
              " 'into',\n",
              " 'the',\n",
              " 'market',\n",
              " ',',\n",
              " 'but',\n",
              " 'also',\n",
              " 'makes',\n",
              " 'it',\n",
              " 'possible',\n",
              " 'to',\n",
              " 'tie',\n",
              " 'those',\n",
              " 'keywords',\n",
              " 'to',\n",
              " 'conversions',\n",
              " '--',\n",
              " 'for',\n",
              " 'any',\n",
              " 'web',\n",
              " 'site',\n",
              " '.',\n",
              " '\"',\n",
              " 'ever',\n",
              " 'since',\n",
              " 'search',\n",
              " 'engines',\n",
              " 'encrypted',\n",
              " 'search',\n",
              " 'results',\n",
              " ',',\n",
              " 'marketers',\n",
              " 'have',\n",
              " 'been',\n",
              " 'in',\n",
              " 'the',\n",
              " 'dark',\n",
              " 'about',\n",
              " 'keywords',\n",
              " ',',\n",
              " 'impacting',\n",
              " 'not',\n",
              " 'only',\n",
              " 'the',\n",
              " 'insight',\n",
              " 'into',\n",
              " 'their',\n",
              " 'own',\n",
              " 'search',\n",
              " 'investments',\n",
              " ',',\n",
              " 'but',\n",
              " 'also',\n",
              " 'their',\n",
              " 'ability',\n",
              " 'to',\n",
              " 'unearth',\n",
              " 'high',\n",
              " 'converting',\n",
              " 'keywords',\n",
              " 'for',\n",
              " 'their',\n",
              " 'competitors',\n",
              " ',\"',\n",
              " 'said',\n",
              " 'deren',\n",
              " 'baker',\n",
              " ',',\n",
              " 'ceo',\n",
              " 'of',\n",
              " 'jumpshot',\n",
              " '.',\n",
              " '\"',\n",
              " 'our',\n",
              " 'platform',\n",
              " 'eliminates',\n",
              " 'the',\n",
              " 'hacks',\n",
              " ',',\n",
              " 'assumptions',\n",
              " ',',\n",
              " 'and',\n",
              " 'guesswork',\n",
              " 'that',\n",
              " 'marketers',\n",
              " 'are',\n",
              " 'doing',\n",
              " 'now',\n",
              " 'and',\n",
              " 'provides',\n",
              " 'real',\n",
              " 'data',\n",
              " ':',\n",
              " 'actual',\n",
              " 'searches',\n",
              " 'tied',\n",
              " 'to',\n",
              " 'actual',\n",
              " 'conversions',\n",
              " 'conducted',\n",
              " 'by',\n",
              " 'real',\n",
              " 'people',\n",
              " 'with',\n",
              " 'nothing',\n",
              " 'inferred',\n",
              " '.\"',\n",
              " 'unlike',\n",
              " 'other',\n",
              " 'keyword',\n",
              " 'research',\n",
              " 'tools',\n",
              " 'that',\n",
              " 'receive',\n",
              " 'data',\n",
              " 'through',\n",
              " 'the',\n",
              " 'adwords',\n",
              " 'api',\n",
              " 'or',\n",
              " 'send',\n",
              " 'bots',\n",
              " 'to',\n",
              " 'cobble',\n",
              " 'together',\n",
              " 'various',\n",
              " 'data',\n",
              " 'inputs',\n",
              " 'and',\n",
              " 'implied',\n",
              " 'metrics',\n",
              " ',',\n",
              " 'jumpshot',\n",
              " 'leverages',\n",
              " 'its',\n",
              " 'panel',\n",
              " 'of',\n",
              " 'over',\n",
              " '115',\n",
              " 'million',\n",
              " 'global',\n",
              " 'consumers',\n",
              " 'to',\n",
              " 'analyze',\n",
              " 'real',\n",
              " 'search',\n",
              " 'activity',\n",
              " '.',\n",
              " 'as',\n",
              " 'a',\n",
              " 'result',\n",
              " ',',\n",
              " 'jumpshot',\n",
              " 'is',\n",
              " 'able',\n",
              " 'to',\n",
              " 'provide',\n",
              " 'companies',\n",
              " 'with',\n",
              " 'actionable',\n",
              " 'data',\n",
              " 'to',\n",
              " 'improve',\n",
              " 'the',\n",
              " 'roi',\n",
              " 'of',\n",
              " 'their',\n",
              " 'search',\n",
              " 'marketing',\n",
              " 'campaigns',\n",
              " ',',\n",
              " 'seo',\n",
              " 'tactics',\n",
              " 'and',\n",
              " 'content',\n",
              " 'marketing',\n",
              " 'initiatives',\n",
              " '.',\n",
              " 'available',\n",
              " 'today',\n",
              " ',',\n",
              " 'jumpshot',\n",
              " 'elite',\n",
              " 'provides',\n",
              " '13',\n",
              " 'months',\n",
              " 'of',\n",
              " 'backward',\n",
              " '-',\n",
              " 'looking',\n",
              " 'data',\n",
              " 'as',\n",
              " 'well',\n",
              " 'as',\n",
              " ':',\n",
              " 'access',\n",
              " 'to',\n",
              " 'real',\n",
              " 'queries',\n",
              " 'used',\n",
              " 'by',\n",
              " 'searchers',\n",
              " 'paid',\n",
              " 'and',\n",
              " 'organic',\n",
              " 'results',\n",
              " 'for',\n",
              " 'any',\n",
              " 'website',\n",
              " 'visibility',\n",
              " 'into',\n",
              " 'organic',\n",
              " 'keywords',\n",
              " ',',\n",
              " 'eliminating',\n",
              " 'the',\n",
              " '\"',\n",
              " 'not',\n",
              " 'provided',\n",
              " '\"',\n",
              " 'outcome',\n",
              " 'in',\n",
              " 'web',\n",
              " 'analytics',\n",
              " 'real',\n",
              " 'user',\n",
              " 'queries',\n",
              " ',',\n",
              " 'clicks',\n",
              " 'and',\n",
              " 'transactions',\n",
              " 'instead',\n",
              " 'of',\n",
              " 'machine',\n",
              " '-',\n",
              " 'generated',\n",
              " 'clicks',\n",
              " 'with',\n",
              " 'inferred',\n",
              " 'results',\n",
              " 'ability',\n",
              " 'to',\n",
              " 'tie',\n",
              " 'keywords',\n",
              " 'to',\n",
              " 'real',\n",
              " 'transactions',\n",
              " 'on',\n",
              " 'any',\n",
              " 'website',\n",
              " 'variable',\n",
              " 'attribution',\n",
              " 'models',\n",
              " 'and',\n",
              " 'lookback',\n",
              " 'windows',\n",
              " 'launched',\n",
              " 'in',\n",
              " 'january',\n",
              " ',',\n",
              " '2015',\n",
              " ',',\n",
              " 'jumpshot',\n",
              " 'grew',\n",
              " 'out',\n",
              " 'of',\n",
              " 'the',\n",
              " 'ambitions',\n",
              " 'of',\n",
              " 'a',\n",
              " 'group',\n",
              " 'of',\n",
              " 'smart',\n",
              " 'marketers',\n",
              " 'and',\n",
              " 'data',\n",
              " 'scientists',\n",
              " 'who',\n",
              " 'were',\n",
              " 'frustrated',\n",
              " 'about',\n",
              " 'the',\n",
              " 'limitations',\n",
              " 'of',\n",
              " 'the',\n",
              " 'data',\n",
              " 'they',\n",
              " 'had',\n",
              " 'access',\n",
              " 'to',\n",
              " ',',\n",
              " 'and',\n",
              " 'excited',\n",
              " 'about',\n",
              " 'the',\n",
              " 'opportunity',\n",
              " 'to',\n",
              " 'provide',\n",
              " 'new',\n",
              " 'insights',\n",
              " 'into',\n",
              " 'online',\n",
              " 'behavior',\n",
              " '.',\n",
              " 'the',\n",
              " 'company',\n",
              " 'uses',\n",
              " 'distinctive',\n",
              " 'data',\n",
              " 'sources',\n",
              " 'to',\n",
              " 'paint',\n",
              " 'a',\n",
              " 'complete',\n",
              " 'picture',\n",
              " 'of',\n",
              " 'the',\n",
              " 'online',\n",
              " 'world',\n",
              " 'for',\n",
              " 'businesses',\n",
              " ',',\n",
              " 'from',\n",
              " 'where',\n",
              " 'customers',\n",
              " 'spend',\n",
              " 'time',\n",
              " 'online',\n",
              " 'to',\n",
              " 'what',\n",
              " 'they',\n",
              " 'do',\n",
              " 'there',\n",
              " 'and',\n",
              " 'how',\n",
              " 'they',\n",
              " 'get',\n",
              " 'from',\n",
              " 'place',\n",
              " 'to',\n",
              " 'place',\n",
              " '.',\n",
              " 'by',\n",
              " 'tracking',\n",
              " 'the',\n",
              " 'online',\n",
              " 'customer',\n",
              " 'journey',\n",
              " 'down',\n",
              " 'to',\n",
              " 'each',\n",
              " 'click',\n",
              " ',',\n",
              " 'jumpshot',\n",
              " 'reveals',\n",
              " 'how',\n",
              " 'and',\n",
              " 'why',\n",
              " 'customers',\n",
              " 'arrive',\n",
              " 'at',\n",
              " 'purchase',\n",
              " 'decisions',\n",
              " '.',\n",
              " 'the',\n",
              " 'company',\n",
              " 'tracks',\n",
              " 'more',\n",
              " 'data',\n",
              " 'in',\n",
              " 'more',\n",
              " 'detail',\n",
              " 'than',\n",
              " 'other',\n",
              " 'services',\n",
              " ',',\n",
              " 'tracking',\n",
              " '160',\n",
              " 'billion',\n",
              " 'monthly',\n",
              " 'clicks',\n",
              " 'generated',\n",
              " 'by',\n",
              " 'its',\n",
              " 'extensive',\n",
              " 'data',\n",
              " 'panel',\n",
              " '.',\n",
              " 'about',\n",
              " 'jumpshot',\n",
              " 'jumpshot',\n",
              " 'is',\n",
              " 'a',\n",
              " 'marketing',\n",
              " 'analytics',\n",
              " 'platform',\n",
              " 'that',\n",
              " 'reveals',\n",
              " 'the',\n",
              " 'entire',\n",
              " 'customer',\n",
              " 'journey',\n",
              " '--',\n",
              " 'from',\n",
              " 'the',\n",
              " 'key',\n",
              " 'sources',\n",
              " 'of',\n",
              " 'traffic',\n",
              " 'to',\n",
              " 'a',\n",
              " 'site',\n",
              " ',',\n",
              " 'to',\n",
              " 'browsing',\n",
              " 'and',\n",
              " 'buying',\n",
              " 'behavior',\n",
              " 'on',\n",
              " ...]"
            ]
          },
          "metadata": {
            "tags": []
          },
          "execution_count": 9
        }
      ]
    },
    {
      "metadata": {
        "colab_type": "code",
        "id": "7QK1w4y1OAW0",
        "colab": {}
      },
      "cell_type": "code",
      "source": [
        "wordcounts = Counter(words).most_common(170000)\n",
        "vocab_list = np.array([word for word,_ in wordcounts])\n",
        "dictionary_word_code = {word:code for code,word in enumerate(vocab_list)}"
      ],
      "execution_count": 0,
      "outputs": []
    },
    {
      "metadata": {
        "colab_type": "code",
        "id": "uDvTMhHeBgNy",
        "outputId": "a1107068-4a66-4221-fa87-07fd00eb2792",
        "colab": {
          "base_uri": "https://localhost:8080/",
          "height": 2822
        }
      },
      "cell_type": "code",
      "source": [
        "embedding_list = []\n",
        "i = 0\n",
        "while i != vocab_list.shape[0] :\n",
        "  try:\n",
        "    embedding_list.append(glove[vocab_list[i]])\n",
        "    i = i+1\n",
        "  except KeyError as e:\n",
        "    embedding_list.append(np.random.normal(0,0.1,[word_dimensions]))\n",
        "    i = i+1\n",
        "    \n",
        "  if i%1000 == 0:\n",
        "    print(i)"
      ],
      "execution_count": 0,
      "outputs": [
        {
          "output_type": "stream",
          "text": [
            "1000\n",
            "2000\n",
            "3000\n",
            "4000\n",
            "5000\n",
            "6000\n",
            "7000\n",
            "8000\n",
            "9000\n",
            "10000\n",
            "11000\n",
            "12000\n",
            "13000\n",
            "14000\n",
            "15000\n",
            "16000\n",
            "17000\n",
            "18000\n",
            "19000\n",
            "20000\n",
            "21000\n",
            "22000\n",
            "23000\n",
            "24000\n",
            "25000\n",
            "26000\n",
            "27000\n",
            "28000\n",
            "29000\n",
            "30000\n",
            "31000\n",
            "32000\n",
            "33000\n",
            "34000\n",
            "35000\n",
            "36000\n",
            "37000\n",
            "38000\n",
            "39000\n",
            "40000\n",
            "41000\n",
            "42000\n",
            "43000\n",
            "44000\n",
            "45000\n",
            "46000\n",
            "47000\n",
            "48000\n",
            "49000\n",
            "50000\n",
            "51000\n",
            "52000\n",
            "53000\n",
            "54000\n",
            "55000\n",
            "56000\n",
            "57000\n",
            "58000\n",
            "59000\n",
            "60000\n",
            "61000\n",
            "62000\n",
            "63000\n",
            "64000\n",
            "65000\n",
            "66000\n",
            "67000\n",
            "68000\n",
            "69000\n",
            "70000\n",
            "71000\n",
            "72000\n",
            "73000\n",
            "74000\n",
            "75000\n",
            "76000\n",
            "77000\n",
            "78000\n",
            "79000\n",
            "80000\n",
            "81000\n",
            "82000\n",
            "83000\n",
            "84000\n",
            "85000\n",
            "86000\n",
            "87000\n",
            "88000\n",
            "89000\n",
            "90000\n",
            "91000\n",
            "92000\n",
            "93000\n",
            "94000\n",
            "95000\n",
            "96000\n",
            "97000\n",
            "98000\n",
            "99000\n",
            "100000\n",
            "101000\n",
            "102000\n",
            "103000\n",
            "104000\n",
            "105000\n",
            "106000\n",
            "107000\n",
            "108000\n",
            "109000\n",
            "110000\n",
            "111000\n",
            "112000\n",
            "113000\n",
            "114000\n",
            "115000\n",
            "116000\n",
            "117000\n",
            "118000\n",
            "119000\n",
            "120000\n",
            "121000\n",
            "122000\n",
            "123000\n",
            "124000\n",
            "125000\n",
            "126000\n",
            "127000\n",
            "128000\n",
            "129000\n",
            "130000\n",
            "131000\n",
            "132000\n",
            "133000\n",
            "134000\n",
            "135000\n",
            "136000\n",
            "137000\n",
            "138000\n",
            "139000\n",
            "140000\n",
            "141000\n",
            "142000\n",
            "143000\n",
            "144000\n",
            "145000\n",
            "146000\n",
            "147000\n",
            "148000\n",
            "149000\n",
            "150000\n",
            "151000\n",
            "152000\n",
            "153000\n",
            "154000\n",
            "155000\n",
            "156000\n",
            "157000\n",
            "158000\n",
            "159000\n",
            "160000\n",
            "161000\n",
            "162000\n",
            "163000\n",
            "164000\n",
            "165000\n"
          ],
          "name": "stdout"
        }
      ]
    },
    {
      "metadata": {
        "colab_type": "code",
        "id": "psAAqFnZX6w_",
        "colab": {}
      },
      "cell_type": "code",
      "source": [
        "embedding_matrix = np.vstack(embedding_list)"
      ],
      "execution_count": 0,
      "outputs": []
    },
    {
      "metadata": {
        "id": "K_L70jolcWA7",
        "colab_type": "code",
        "outputId": "84d398ba-b25d-4ac2-955a-68131b5f8147",
        "colab": {
          "base_uri": "https://localhost:8080/",
          "height": 238
        }
      },
      "cell_type": "code",
      "source": [
        "embedding_matrix"
      ],
      "execution_count": 0,
      "outputs": [
        {
          "output_type": "execute_result",
          "data": {
            "text/plain": [
              "array([[-0.038194  , -0.24487   ,  0.72812   , ..., -0.1459    ,\n",
              "         0.8278    ,  0.27062   ],\n",
              "       [-0.33979   ,  0.20941   ,  0.46348   , ..., -0.23394   ,\n",
              "         0.47298   , -0.028803  ],\n",
              "       [-0.10767   ,  0.11053   ,  0.59812   , ..., -0.83155   ,\n",
              "         0.45293   ,  0.082577  ],\n",
              "       ...,\n",
              "       [-0.06889619, -0.0915261 ,  0.03377779, ..., -0.05064638,\n",
              "        -0.03349665, -0.06075078],\n",
              "       [-0.29514   , -0.88073   , -0.35538   , ..., -0.036788  ,\n",
              "        -0.23563   ,  0.054821  ],\n",
              "       [ 0.017643  , -0.090398  , -0.81834   , ..., -0.19481   ,\n",
              "        -0.87331   ,  0.18943   ]])"
            ]
          },
          "metadata": {
            "tags": []
          },
          "execution_count": 22
        }
      ]
    },
    {
      "metadata": {
        "colab_type": "text",
        "id": "8XY8MVbKYsGg"
      },
      "cell_type": "markdown",
      "source": [
        "**Embedding Matrix is created and in the variable *embedding_matrix***"
      ]
    },
    {
      "metadata": {
        "colab_type": "text",
        "id": "XSQyd9qvY_wT"
      },
      "cell_type": "markdown",
      "source": [
        "# Making a Bi-Directional RNN with Attention , no dropout layer\n",
        "\n",
        "## For now making a 3 Layer LSTM deep network (could cause vanishing gradient problem) and not using the EOS thing, will make the summary a fixed number of words , mostly wont be coherent but lets see if any output comes at all first."
      ]
    },
    {
      "metadata": {
        "colab_type": "code",
        "id": "Hh-3a2AHX8U7",
        "colab": {}
      },
      "cell_type": "code",
      "source": [
        "import tensorflow as tf"
      ],
      "execution_count": 0,
      "outputs": []
    },
    {
      "metadata": {
        "colab_type": "text",
        "id": "PE4eDmUgA6Vz"
      },
      "cell_type": "markdown",
      "source": [
        "#### 'The' also has a code of 0 and you are gonna zero pad things so could lead to problems\n",
        "\n",
        "#### Also you are using too much RAM afterwards change variable names so you overwriting them and not keep making new ones\n",
        "Ok so for saving RAM I am thinking I will make a pickle file for all the important stuff and load it in so all the useless variables dont take up space"
      ]
    },
    {
      "metadata": {
        "colab_type": "code",
        "id": "SkCdPTRG1b5I",
        "colab": {}
      },
      "cell_type": "code",
      "source": [
        "tokenized_articles = []\n",
        "tokenized_headings = []\n",
        "for a in article:\n",
        "  tokens = tokenizer.tokenize(a)\n",
        "  tokenized_articles.append(tokens)\n",
        "for h in heading:\n",
        "  tokens = tokenizer.tokenize(h)\n",
        "  tokenized_headings.append(tokens)\n",
        "  \n",
        "max_length_article = max([len(a) for a in tokenized_articles])\n",
        "max_length_heading = max([len(h) for h in tokenized_headings])\n",
        "\n",
        "numerical_articles = []\n",
        "numerical_headings = []\n",
        "for a in tokenized_articles:\n",
        "    list1 = [dictionary_word_code[b] for b in a]\n",
        "    numerical_articles.append(list1)\n",
        "for h in tokenized_headings:\n",
        "  list1 = [dictionary_word_code[b] for b in h]\n",
        "  numerical_headings.append(list1)\n",
        "  \n",
        "padded_numerical_articles = []\n",
        "padded_numerical_headings = []\n",
        "for a in numerical_articles:\n",
        "  zeros = [0]*(max_length_article - len(a))\n",
        "  list1 = a + zeros\n",
        "  padded_numerical_articles.append(list1)\n",
        "for h in numerical_headings:\n",
        "  zeros = [0]*(max_length_heading - len(h))\n",
        "  list1 = h + zeros\n",
        "  padded_numerical_headings.append(list1)\n",
        "  \n",
        "with open(\"input_data.pickle\", \"wb\") as f:\n",
        "    pickle.dump((embedding_matrix,padded_numerical_articles,padded_numerical_headings,vocab_list), f)"
      ],
      "execution_count": 0,
      "outputs": []
    },
    {
      "metadata": {
        "colab_type": "text",
        "id": "A0eeO97yHjAp"
      },
      "cell_type": "markdown",
      "source": [
        "# Too much RAM was used so start from here"
      ]
    },
    {
      "metadata": {
        "colab_type": "code",
        "id": "1nfbmW_XAPL8",
        "colab": {}
      },
      "cell_type": "code",
      "source": [
        "import pickle \n",
        "with open(\"input_data.pickle\",\"rb\") as f:\n",
        "  _ , articles , headings, vocab_list = pickle.load(f)"
      ],
      "execution_count": 0,
      "outputs": []
    },
    {
      "metadata": {
        "colab_type": "code",
        "id": "13xfVE8i54mR",
        "colab": {}
      },
      "cell_type": "code",
      "source": [
        "import numpy as np\n",
        "def next_batch(articles,headings,batch_size,num_time_steps = 100,num_output_steps = 10):                 # 850     #84\n",
        "  \n",
        "  snipped_articles = []\n",
        "  snipped_headings = []\n",
        "  \n",
        "  for a in articles:\n",
        "    part_article = a[0:num_time_steps]\n",
        "    snipped_articles.append(part_article)\n",
        "    \n",
        "  random = np.random.randint(0,len(articles) - batch_size -1)\n",
        "  batch_x = np.array(snipped_articles[random:random+batch_size]).reshape([batch_size,num_time_steps,1])\n",
        "  onehotlistarticles = []\n",
        "  for article in batch_x:\n",
        "    for num in article:\n",
        "      zeros = np.array([0]*len(vocab_list))\n",
        "      zeros[num] = 1\n",
        "      onehotlistarticles.append(zeros)\n",
        "  onehotlistarticles = np.array(onehotlistarticles).reshape([batch_size,num_time_steps,-1])\n",
        "  \n",
        "  for h in headings:\n",
        "    part_heading = h[0:num_output_steps]\n",
        "    snipped_headings.append(part_heading)\n",
        "  \n",
        "  batch_y = np.array(snipped_headings[random:random+batch_size]).reshape([batch_size,num_output_steps,1])\n",
        "  onehotlistheadings = []\n",
        "  for heading in batch_y:\n",
        "    for num in heading:\n",
        "      zeros = np.array([0]*len(vocab_list))\n",
        "      zeros[num] = 1\n",
        "      onehotlistheadings.append(zeros)\n",
        "  onehotlistheadings = np.array(onehotlistheadings).reshape([batch_size,num_output_steps,-1])\n",
        "  \n",
        "  return onehotlistarticles , onehotlistheadings"
      ],
      "execution_count": 0,
      "outputs": []
    },
    {
      "metadata": {
        "id": "hsM5HHVZp1AK",
        "colab_type": "code",
        "colab": {}
      },
      "cell_type": "code",
      "source": [
        "onehotencodedarticle , onehotencodedheading = next_batch(articles,headings,1,50,10)"
      ],
      "execution_count": 0,
      "outputs": []
    },
    {
      "metadata": {
        "id": "brEdaUprqVIY",
        "colab_type": "code",
        "outputId": "7b415c55-00c7-44fd-d1f5-e5951021c685",
        "colab": {
          "base_uri": "https://localhost:8080/",
          "height": 136
        }
      },
      "cell_type": "code",
      "source": [
        "onehotencodedarticle"
      ],
      "execution_count": 0,
      "outputs": [
        {
          "output_type": "execute_result",
          "data": {
            "text/plain": [
              "array([[[0, 0, 0, ..., 0, 0, 0],\n",
              "        [0, 0, 0, ..., 0, 0, 0],\n",
              "        [0, 0, 0, ..., 0, 0, 0],\n",
              "        ...,\n",
              "        [0, 0, 0, ..., 0, 0, 0],\n",
              "        [0, 0, 0, ..., 0, 0, 0],\n",
              "        [0, 0, 0, ..., 0, 0, 0]]])"
            ]
          },
          "metadata": {
            "tags": []
          },
          "execution_count": 11
        }
      ]
    },
    {
      "metadata": {
        "id": "84xf5k1nqUpK",
        "colab_type": "code",
        "outputId": "293f074a-03bd-486e-d711-3bfba51a2426",
        "colab": {
          "base_uri": "https://localhost:8080/",
          "height": 136
        }
      },
      "cell_type": "code",
      "source": [
        "onehotencodedheading"
      ],
      "execution_count": 0,
      "outputs": [
        {
          "output_type": "execute_result",
          "data": {
            "text/plain": [
              "array([[[0, 0, 0, ..., 0, 0, 0],\n",
              "        [0, 0, 0, ..., 0, 0, 0],\n",
              "        [0, 0, 0, ..., 0, 0, 0],\n",
              "        ...,\n",
              "        [0, 0, 0, ..., 0, 0, 0],\n",
              "        [0, 0, 0, ..., 0, 0, 0],\n",
              "        [0, 0, 0, ..., 0, 0, 0]]])"
            ]
          },
          "metadata": {
            "tags": []
          },
          "execution_count": 8
        }
      ]
    },
    {
      "metadata": {
        "colab_type": "text",
        "id": "Qhn7_KS4xxsK"
      },
      "cell_type": "markdown",
      "source": [
        "# TensorFlow Graph \n",
        "\n",
        "## Encoder "
      ]
    },
    {
      "metadata": {
        "colab_type": "code",
        "id": "AMtm5eFZmJ4_",
        "colab": {}
      },
      "cell_type": "code",
      "source": [
        "def length(sequence):\n",
        "  used = tf.reduce_max(sequence, 2)\n",
        "  length = tf.reduce_sum(used, 1)\n",
        "  length = tf.cast(length, tf.int32)\n",
        "  return length"
      ],
      "execution_count": 0,
      "outputs": []
    },
    {
      "metadata": {
        "colab_type": "text",
        "id": "vHspC9d0uAdB"
      },
      "cell_type": "markdown",
      "source": [
        "**See Imext Notebook for explaination of tf.reduce_max and how axis collapses and stuff**"
      ]
    },
    {
      "metadata": {
        "colab_type": "code",
        "id": "7w2duU_-psS5",
        "colab": {}
      },
      "cell_type": "code",
      "source": [
        "import tensorflow as tf\n",
        "import numpy as np"
      ],
      "execution_count": 0,
      "outputs": []
    },
    {
      "metadata": {
        "colab_type": "code",
        "id": "HvHe14VYgfi-",
        "colab": {}
      },
      "cell_type": "code",
      "source": [
        "num_time_steps = 100\n",
        "num_output_steps = 10\n",
        "dimensions_rnn_cell = 100\n",
        "batch_size = 2"
      ],
      "execution_count": 0,
      "outputs": []
    },
    {
      "metadata": {
        "colab_type": "code",
        "id": "NSy6Z9ul_hCk",
        "colab": {}
      },
      "cell_type": "code",
      "source": [
        "tf.reset_default_graph()"
      ],
      "execution_count": 0,
      "outputs": []
    },
    {
      "metadata": {
        "colab_type": "code",
        "id": "tUlstKfuiH_l",
        "colab": {}
      },
      "cell_type": "code",
      "source": [
        "X = tf.placeholder(tf.float32,shape = [None,num_time_steps,len(vocab_list)])"
      ],
      "execution_count": 0,
      "outputs": []
    },
    {
      "metadata": {
        "colab_type": "text",
        "id": "lg6xJZRGATVd"
      },
      "cell_type": "markdown",
      "source": [
        "** Right now too tired, not initializing with Embedding Matrix as its a pain , have no clue what the fuck the function wants from me, come back later here if the performance is not so good , see the documentation for initializer in LSTMCell**"
      ]
    },
    {
      "metadata": {
        "colab_type": "code",
        "id": "NpXY4lXuX8JI",
        "colab": {
          "base_uri": "https://localhost:8080/",
          "height": 411
        },
        "outputId": "6ef87714-7b54-4603-d0de-928f5a65b4de"
      },
      "cell_type": "code",
      "source": [
        "lstm_fw_cell = [tf.nn.rnn_cell.LSTMCell(dimensions_rnn_cell)]\n",
        "lstm_bw_cell = [tf.nn.rnn_cell.LSTMCell(dimensions_rnn_cell)]\n",
        "\n",
        "outputs, output_state_fw, output_state_bw = tf.contrib.rnn.stack_bidirectional_dynamic_rnn(lstm_fw_cell, lstm_bw_cell, X, dtype='float32', sequence_length = length(X))"
      ],
      "execution_count": 11,
      "outputs": [
        {
          "output_type": "stream",
          "text": [
            "WARNING:tensorflow:From <ipython-input-11-b83edb18a159>:1: LSTMCell.__init__ (from tensorflow.python.ops.rnn_cell_impl) is deprecated and will be removed in a future version.\n",
            "Instructions for updating:\n",
            "This class is equivalent as tf.keras.layers.LSTMCell, and will be replaced by that in Tensorflow 2.0.\n",
            "\n",
            "WARNING: The TensorFlow contrib module will not be included in TensorFlow 2.0.\n",
            "For more information, please see:\n",
            "  * https://github.com/tensorflow/community/blob/master/rfcs/20180907-contrib-sunset.md\n",
            "  * https://github.com/tensorflow/addons\n",
            "If you depend on functionality not listed there, please file an issue.\n",
            "\n",
            "WARNING:tensorflow:From /usr/local/lib/python3.6/dist-packages/tensorflow/contrib/rnn/python/ops/rnn.py:233: bidirectional_dynamic_rnn (from tensorflow.python.ops.rnn) is deprecated and will be removed in a future version.\n",
            "Instructions for updating:\n",
            "Please use `keras.layers.Bidirectional(keras.layers.RNN(cell))`, which is equivalent to this API\n",
            "WARNING:tensorflow:From /usr/local/lib/python3.6/dist-packages/tensorflow/python/ops/rnn.py:443: dynamic_rnn (from tensorflow.python.ops.rnn) is deprecated and will be removed in a future version.\n",
            "Instructions for updating:\n",
            "Please use `keras.layers.RNN(cell)`, which is equivalent to this API\n",
            "WARNING:tensorflow:From /usr/local/lib/python3.6/dist-packages/tensorflow/python/ops/rnn.py:626: to_int32 (from tensorflow.python.ops.math_ops) is deprecated and will be removed in a future version.\n",
            "Instructions for updating:\n",
            "Use tf.cast instead.\n",
            "WARNING:tensorflow:From /usr/local/lib/python3.6/dist-packages/tensorflow/python/ops/tensor_array_ops.py:162: colocate_with (from tensorflow.python.framework.ops) is deprecated and will be removed in a future version.\n",
            "Instructions for updating:\n",
            "Colocations handled automatically by placer.\n"
          ],
          "name": "stdout"
        }
      ]
    },
    {
      "metadata": {
        "colab_type": "text",
        "id": "bXwjpyP4DcLb"
      },
      "cell_type": "markdown",
      "source": [
        "** Cool so session crashes after using all the RAM**\n",
        "\n",
        "** For testing if this is working or not **"
      ]
    },
    {
      "metadata": {
        "colab_type": "code",
        "id": "aBs4xL9Sy6Vs",
        "colab": {}
      },
      "cell_type": "code",
      "source": [
        "init = tf.global_variables_initializer()\n",
        "with tf.Session() as sess:\n",
        "  sess.run(init)\n",
        "  batch_x, v = next_batch(articles,headings,batch_size,100,10)\n",
        "  combined_bi_rnn_output = sess.run(outputs,feed_dict = {X:batch_x})"
      ],
      "execution_count": 0,
      "outputs": []
    },
    {
      "metadata": {
        "colab_type": "code",
        "id": "njEL3Nz0y8TD",
        "outputId": "c2021343-0ed2-441f-a5ec-a811bfab1bdb",
        "colab": {
          "base_uri": "https://localhost:8080/",
          "height": 476
        }
      },
      "cell_type": "code",
      "source": [
        "combined_bi_rnn_output"
      ],
      "execution_count": 0,
      "outputs": [
        {
          "output_type": "execute_result",
          "data": {
            "text/plain": [
              "array([[[-3.2783952e-04, -6.8792311e-04, -9.4794697e-04, ...,\n",
              "          7.4256625e-04,  9.5902121e-04, -2.3523576e-03],\n",
              "        [ 7.2198868e-04, -1.6717522e-03, -9.4186328e-04, ...,\n",
              "         -9.8459411e-04,  2.8810717e-04, -1.9490661e-03],\n",
              "        [-2.4890318e-04, -2.2269606e-03, -8.7335058e-05, ...,\n",
              "         -2.5667732e-03, -2.6391957e-05, -8.0228376e-04],\n",
              "        ...,\n",
              "        [ 1.0020640e-03,  1.0294392e-03, -8.2223839e-04, ...,\n",
              "         -2.1115739e-03,  1.8902525e-03,  1.9151869e-04],\n",
              "        [ 4.7159812e-04,  6.7479024e-04, -8.5636129e-04, ...,\n",
              "         -1.6434949e-03,  7.3492981e-04,  1.9513143e-03],\n",
              "        [-4.7449372e-04,  9.3540055e-04,  3.5114659e-04, ...,\n",
              "         -1.4197577e-03, -2.0201574e-04,  1.1504232e-03]],\n",
              "\n",
              "       [[ 1.2039823e-03, -4.0472256e-05, -1.8650545e-04, ...,\n",
              "          2.3192090e-03,  8.3211134e-04,  9.6437446e-04],\n",
              "        [ 9.0374786e-04, -1.1380591e-03, -8.6801325e-04, ...,\n",
              "          1.5123325e-03,  1.6813138e-03,  4.9060979e-04],\n",
              "        [ 1.8986216e-03, -1.5466526e-03, -1.6539117e-03, ...,\n",
              "          2.1285641e-03,  1.5774365e-03,  1.3030614e-03],\n",
              "        ...,\n",
              "        [-2.1774797e-03,  9.8165800e-04,  5.9714838e-04, ...,\n",
              "         -2.6007753e-03, -1.9765771e-03,  8.1775035e-04],\n",
              "        [-1.8061906e-03, -6.3917111e-04,  1.5408400e-03, ...,\n",
              "         -1.9479378e-03, -2.0020495e-03,  3.4823653e-04],\n",
              "        [-9.8474650e-04,  2.8832370e-04, -2.2452020e-04, ...,\n",
              "         -9.5691578e-04, -9.4062556e-04,  1.7971134e-04]]], dtype=float32)"
            ]
          },
          "metadata": {
            "tags": []
          },
          "execution_count": 25
        }
      ]
    },
    {
      "metadata": {
        "colab_type": "code",
        "id": "XEsTD4P27-QQ",
        "colab": {}
      },
      "cell_type": "code",
      "source": [
        "## Attention Mechanism : For now, wont be taking input from the final output of the network and lets see how it performs, afterwards take as input from the output of the final stage too \n",
        "\n",
        "## I think thats possible because the final outputs are also placeholders right? So that can be input to your 'neural_network' function\n",
        "\n",
        "### Define a Neural Network basically 200 : 100 : 84"
      ],
      "execution_count": 0,
      "outputs": []
    },
    {
      "metadata": {
        "id": "FTQlXl13vWAU",
        "colab_type": "code",
        "colab": {}
      },
      "cell_type": "code",
      "source": [
        "combined_BiRNN_outputs = tf.placeholder(tf.float32,shape = [None,num_time_steps,2*dimensions_rnn_cell])"
      ],
      "execution_count": 0,
      "outputs": []
    },
    {
      "metadata": {
        "id": "ANT71WCevWAX",
        "colab_type": "code",
        "colab": {}
      },
      "cell_type": "code",
      "source": [
        "num_hidden_neurons = 100\n",
        "def neural_network(combined_BiRnn_output):\n",
        "    \n",
        "    Wx1 = tf.Variable(tf.random_normal([batch_size,2*dimensions_rnn_cell,num_hidden_neurons],0.3,1/200))\n",
        "    Wx2 = tf.Variable(tf.random_normal([batch_size,num_hidden_neurons,num_output_steps],0.5,1/50))\n",
        "    b1 = tf.Variable(tf.constant(0.5,shape = [num_hidden_neurons]))\n",
        "    b2 = tf.Variable(tf.constant(0.3,shape = [num_output_steps]))\n",
        "    first_out = tf.nn.tanh(tf.add(tf.matmul(combined_BiRnn_output,Wx1),b1))\n",
        "    e = tf.nn.relu(tf.add(tf.matmul(first_out,Wx2),b2))\n",
        "        \n",
        "    return e"
      ],
      "execution_count": 0,
      "outputs": []
    },
    {
      "metadata": {
        "id": "6VQDdOravWAZ",
        "colab_type": "code",
        "colab": {}
      },
      "cell_type": "code",
      "source": [
        "def softmax(e_values):\n",
        "    j = tf.exp(e_values)\n",
        "    totals = tf.reduce_sum(j,1)\n",
        "    j = tf.unstack(j,axis = 0)\n",
        "    totals = tf.unstack(totals, axis = 0)\n",
        "    for i in range(batch_size):\n",
        "        j[i] = j[i]/totals[i]\n",
        "    j = tf.stack(j,axis = 0)\n",
        "    return j"
      ],
      "execution_count": 0,
      "outputs": []
    },
    {
      "metadata": {
        "id": "DlE0DQWqvWAc",
        "colab_type": "code",
        "colab": {}
      },
      "cell_type": "code",
      "source": [
        "e_vals = neural_network(combined_BiRNN_outputs)\n",
        "alpha_values = softmax(e_vals)"
      ],
      "execution_count": 0,
      "outputs": []
    },
    {
      "metadata": {
        "id": "rkN_bf17vWAi",
        "colab_type": "code",
        "colab": {}
      },
      "cell_type": "code",
      "source": [
        "init = tf.global_variables_initializer()"
      ],
      "execution_count": 0,
      "outputs": []
    },
    {
      "metadata": {
        "id": "fVD3ollgvWAk",
        "colab_type": "text"
      },
      "cell_type": "markdown",
      "source": [
        "** To test whether alpha values are coming or not **"
      ]
    },
    {
      "metadata": {
        "id": "qeu9WinxvWAm",
        "colab_type": "code",
        "colab": {}
      },
      "cell_type": "code",
      "source": [
        "with tf.Session() as sess:\n",
        "    sess.run(init)\n",
        "    batch_x, _ = next_batch(articles,headings,batch_size,100,10)\n",
        "    outs = sess.run(outputs,feed_dict = {X: batch_x})\n",
        "    \n",
        "    alpha = sess.run(alpha_values,feed_dict = {combined_BiRNN_outputs:outs})"
      ],
      "execution_count": 0,
      "outputs": []
    },
    {
      "metadata": {
        "id": "QUmgO-0WR59c",
        "colab_type": "code",
        "outputId": "9c1022d3-8596-4075-852f-273dde46e6cd",
        "colab": {
          "base_uri": "https://localhost:8080/",
          "height": 476
        }
      },
      "cell_type": "code",
      "source": [
        "alpha"
      ],
      "execution_count": 0,
      "outputs": [
        {
          "output_type": "execute_result",
          "data": {
            "text/plain": [
              "array([[[0.01067784, 0.01068803, 0.01068037, ..., 0.01068256,\n",
              "         0.01068129, 0.01068229],\n",
              "        [0.01016384, 0.01016348, 0.01016377, ..., 0.01016385,\n",
              "         0.01016377, 0.01016391],\n",
              "        [0.0093227 , 0.00930638, 0.00931866, ..., 0.00931506,\n",
              "         0.00931708, 0.0093158 ],\n",
              "        ...,\n",
              "        [0.01075403, 0.01076575, 0.01075705, ..., 0.01075957,\n",
              "         0.0107582 , 0.01075913],\n",
              "        [0.01092826, 0.01094368, 0.01093221, ..., 0.01093544,\n",
              "         0.01093367, 0.01093498],\n",
              "        [0.01121162, 0.0112332 , 0.01121708, ..., 0.01122183,\n",
              "         0.01121918, 0.01122093]],\n",
              "\n",
              "       [[0.00924081, 0.00923804, 0.00923832, ..., 0.00923288,\n",
              "         0.00924248, 0.00923921],\n",
              "        [0.00843764, 0.0084326 , 0.00843306, ..., 0.00842303,\n",
              "         0.00844053, 0.00843464],\n",
              "        [0.0093433 , 0.00934097, 0.00934119, ..., 0.00933637,\n",
              "         0.00934468, 0.00934188],\n",
              "        ...,\n",
              "        [0.00954852, 0.00954695, 0.00954719, ..., 0.00954347,\n",
              "         0.00954944, 0.00954765],\n",
              "        [0.01097711, 0.01098008, 0.0109798 , ..., 0.01098587,\n",
              "         0.01097534, 0.01097888],\n",
              "        [0.01110885, 0.01111211, 0.01111185, ..., 0.01111893,\n",
              "         0.01110685, 0.01111078]]], dtype=float32)"
            ]
          },
          "metadata": {
            "tags": []
          },
          "execution_count": 32
        }
      ]
    },
    {
      "metadata": {
        "id": "0d2ZC8X_vWAp",
        "colab_type": "text"
      },
      "cell_type": "markdown",
      "source": [
        "** Weighted Average **"
      ]
    },
    {
      "metadata": {
        "id": "3H73NLW_vWAr",
        "colab_type": "code",
        "colab": {}
      },
      "cell_type": "code",
      "source": [
        "def weighted_average(outputs,alphas):\n",
        "    \n",
        "    alphas = tf.transpose(alphas,perm = [0,2,1])\n",
        "    context_vectors = tf.matmul(alphas,outputs)\n",
        "    \n",
        "    return context_vectors"
      ],
      "execution_count": 0,
      "outputs": []
    },
    {
      "metadata": {
        "id": "UuuK1tQtvWAv",
        "colab_type": "code",
        "colab": {}
      },
      "cell_type": "code",
      "source": [
        "context_vectors = weighted_average(combined_BiRNN_outputs,alpha_values)"
      ],
      "execution_count": 0,
      "outputs": []
    },
    {
      "metadata": {
        "id": "WJ7b1tolvWA1",
        "colab_type": "text"
      },
      "cell_type": "markdown",
      "source": [
        "### Another idea you could do is instead of one hot encoding the input words use the embedding matrix you created, though wont be as useful if you could load up the embedding matrix as the weight vector it may be better than normal one hot encoding\n",
        "\n",
        "### Or use a LSTM cell as the first layer and top it off with 2 BiRnn layers or something if LSTM cell supports initialzing \n"
      ]
    },
    {
      "metadata": {
        "id": "Vhu5DFy1vWA3",
        "colab_type": "code",
        "colab": {}
      },
      "cell_type": "code",
      "source": [
        "context = tf.placeholder(tf.float32,shape = [batch_size,num_output_steps,2*dimensions_rnn_cell])"
      ],
      "execution_count": 0,
      "outputs": []
    },
    {
      "metadata": {
        "id": "ZGKxTECavWBD",
        "colab_type": "code",
        "colab": {}
      },
      "cell_type": "code",
      "source": [
        "cell_factory = tf.nn.rnn_cell.LSTMCell(dimensions_rnn_cell,activation=tf.nn.relu)\n",
        "initial_state = cell_factory.zero_state(batch_size, dtype=tf.float32)\n",
        "decoder, _ = tf.nn.dynamic_rnn(cell_factory,context,initial_state=initial_state)"
      ],
      "execution_count": 0,
      "outputs": []
    },
    {
      "metadata": {
        "id": "yKDYU-NLvWBJ",
        "colab_type": "code",
        "colab": {}
      },
      "cell_type": "code",
      "source": [
        "def output_neural_network(decoder_rnn):\n",
        "    \n",
        "    Wx1 = tf.Variable(tf.random_normal([batch_size,dimensions_rnn_cell,len(vocab_list)],0.5,1/dimensions_rnn_cell))\n",
        "    b1 = tf.Variable(tf.constant(0.5,shape = [len(vocab_list)]))\n",
        "    first_out = tf.nn.softmax(tf.nn.relu((tf.add(tf.matmul(decoder_rnn,Wx1),b1))))\n",
        "        \n",
        "    return first_out"
      ],
      "execution_count": 0,
      "outputs": []
    },
    {
      "metadata": {
        "id": "fSpDOiUbvWBO",
        "colab_type": "code",
        "colab": {}
      },
      "cell_type": "code",
      "source": [
        "probability_distribution = output_neural_network(decoder)"
      ],
      "execution_count": 0,
      "outputs": []
    },
    {
      "metadata": {
        "id": "_az7h5NSxPet",
        "colab_type": "code",
        "colab": {}
      },
      "cell_type": "code",
      "source": [
        "y_true = tf.placeholder(tf.float32,shape = [None,num_output_steps,len(vocab_list)])"
      ],
      "execution_count": 0,
      "outputs": []
    },
    {
      "metadata": {
        "id": "tqQ8dtuOvWBT",
        "colab_type": "code",
        "colab": {}
      },
      "cell_type": "code",
      "source": [
        "c_e = tf.nn.softmax_cross_entropy_with_logits_v2(logits = probability_distribution,labels = y_true)\n",
        "optimizer = tf.train.AdamOptimizer(learning_rate = 0.3)\n",
        "train = optimizer.minimize(c_e)"
      ],
      "execution_count": 0,
      "outputs": []
    },
    {
      "metadata": {
        "id": "v7KyPVBWvWBX",
        "colab_type": "code",
        "colab": {}
      },
      "cell_type": "code",
      "source": [
        "init = tf.global_variables_initializer()\n",
        "\n",
        "with tf.Session() as sess:\n",
        "  sess.run(init)\n",
        "  \n",
        "  for i in range(100):\n",
        "    batch_x , batch_y = next_batch(articles,headings,batch_size,100,10)\n",
        "    outs = sess.run(outputs, feed_dict = {X:batch_x})\n",
        "    con = sess.run(context_vectors, feed_dict = {combined_BiRNN_outputs:outs})\n",
        "    sess.run(train, feed_dict = {context:con,y_true:batch_y})\n",
        "    \n",
        "    if i%10 ==0:\n",
        "      print(sess.run(c_e,feed_dict = {context:con,y_true:batch_y}))\n",
        "      \n",
        "    batch_x , batch_y = next_batch(articles,headings,1,100,10)\n",
        "    outs = sess.run(outputs, feed_dict = {X:batch_x})\n",
        "    con = sess.run(context_vectors, feed_dict = {combined_BiRNN_outputs:outs})\n",
        "    final_output = sess.run(probability_distribution, feed_dict = {context:con})\n",
        "      "
      ],
      "execution_count": 0,
      "outputs": []
    },
    {
      "metadata": {
        "id": "wDaBB_NLyrLl",
        "colab_type": "code",
        "colab": {
          "base_uri": "https://localhost:8080/",
          "height": 476
        },
        "outputId": "695708ed-28c7-49a1-f7e0-edeef9abe8bb"
      },
      "cell_type": "code",
      "source": [
        "final_output"
      ],
      "execution_count": 27,
      "outputs": [
        {
          "output_type": "execute_result",
          "data": {
            "text/plain": [
              "array([[[6.0349184e-06, 6.0349184e-06, 6.0350158e-06, ...,\n",
              "         6.0350076e-06, 6.0349198e-06, 6.0349603e-06],\n",
              "        [6.0349075e-06, 6.0349130e-06, 6.0350790e-06, ...,\n",
              "         6.0350717e-06, 6.0349107e-06, 6.0349794e-06],\n",
              "        [6.0348721e-06, 6.0348857e-06, 6.0350994e-06, ...,\n",
              "         6.0350985e-06, 6.0348771e-06, 6.0349662e-06],\n",
              "        ...,\n",
              "        [6.0347879e-06, 6.0348430e-06, 6.0351495e-06, ...,\n",
              "         6.0351886e-06, 6.0347998e-06, 6.0349339e-06],\n",
              "        [6.0347816e-06, 6.0348425e-06, 6.0351535e-06, ...,\n",
              "         6.0351995e-06, 6.0347943e-06, 6.0349316e-06],\n",
              "        [6.0347766e-06, 6.0348430e-06, 6.0351558e-06, ...,\n",
              "         6.0352072e-06, 6.0347902e-06, 6.0349298e-06]],\n",
              "\n",
              "       [[6.0349948e-06, 6.0350026e-06, 6.0350167e-06, ...,\n",
              "         6.0349407e-06, 6.0349325e-06, 6.0349430e-06],\n",
              "        [6.0350299e-06, 6.0350458e-06, 6.0350712e-06, ...,\n",
              "         6.0349430e-06, 6.0349248e-06, 6.0349389e-06],\n",
              "        [6.0350235e-06, 6.0350508e-06, 6.0350826e-06, ...,\n",
              "         6.0349203e-06, 6.0348916e-06, 6.0349048e-06],\n",
              "        ...,\n",
              "        [6.0350308e-06, 6.0351063e-06, 6.0351385e-06, ...,\n",
              "         6.0349239e-06, 6.0348616e-06, 6.0348480e-06],\n",
              "        [6.0350299e-06, 6.0351126e-06, 6.0351408e-06, ...,\n",
              "         6.0349257e-06, 6.0348602e-06, 6.0348420e-06],\n",
              "        [6.0350299e-06, 6.0351176e-06, 6.0351426e-06, ...,\n",
              "         6.0349280e-06, 6.0348602e-06, 6.0348380e-06]]], dtype=float32)"
            ]
          },
          "metadata": {
            "tags": []
          },
          "execution_count": 27
        }
      ]
    },
    {
      "metadata": {
        "id": "u1kIjphCT9vC",
        "colab_type": "code",
        "colab": {}
      },
      "cell_type": "code",
      "source": [
        ""
      ],
      "execution_count": 0,
      "outputs": []
    }
  ]
}