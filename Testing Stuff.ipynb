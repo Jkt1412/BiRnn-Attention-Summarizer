{
 "cells": [
  {
   "cell_type": "code",
   "execution_count": 1,
   "metadata": {},
   "outputs": [
    {
     "name": "stderr",
     "output_type": "stream",
     "text": [
      "/home/administrator/anaconda3/lib/python3.6/site-packages/h5py/__init__.py:36: FutureWarning: Conversion of the second argument of issubdtype from `float` to `np.floating` is deprecated. In future, it will be treated as `np.float64 == np.dtype(float).type`.\n",
      "  from ._conv import register_converters as _register_converters\n"
     ]
    }
   ],
   "source": [
    "import tensorflow as tf\n",
    "import numpy as np"
   ]
  },
  {
   "cell_type": "code",
   "execution_count": 2,
   "metadata": {},
   "outputs": [],
   "source": [
    "tf.reset_default_graph()"
   ]
  },
  {
   "cell_type": "code",
   "execution_count": 308,
   "metadata": {},
   "outputs": [],
   "source": [
    "X = tf.placeholder(tf.float32,shape = [None,10,200])"
   ]
  },
  {
   "cell_type": "code",
   "execution_count": 347,
   "metadata": {},
   "outputs": [],
   "source": [
    "x = np.random.normal(0,0.8,[3,10,200]).astype(np.float32)\n",
    "batch_size = 3"
   ]
  },
  {
   "cell_type": "markdown",
   "metadata": {},
   "source": [
    "** Can change up the activation functions later if softmax blows upto inf or goes down to zero or something**\n",
    "\n",
    "** If the input is distributed around zero it performs better ** \n",
    "\n",
    "** Matmul works in a good way in 3D too same as 2D**\n",
    "\n",
    "** Bias vector size keep the same as each row size, it then adds to every row of the vector you want to add it to**"
   ]
  },
  {
   "cell_type": "code",
   "execution_count": 376,
   "metadata": {},
   "outputs": [],
   "source": [
    "def neural_network(combined_BiRnn_output):\n",
    "    \n",
    "    Wx1 = tf.Variable(tf.random_normal([batch_size,200,50],0.3,1/200))\n",
    "    Wx2 = tf.Variable(tf.random_normal([batch_size,50,1],0.5,1/50))\n",
    "    b1 = tf.Variable(tf.constant(0.5,shape = [50]))\n",
    "    b2 = tf.Variable(tf.constant(0.3,shape = [1]))\n",
    "    first_out = tf.nn.tanh(tf.add(tf.matmul(combined_BiRnn_output,Wx1),b1))\n",
    "    e = tf.nn.relu(tf.add(tf.matmul(first_out,Wx2),b2))\n",
    "        \n",
    "    return e"
   ]
  },
  {
   "cell_type": "code",
   "execution_count": 430,
   "metadata": {},
   "outputs": [],
   "source": [
    "def softmax(e_values):\n",
    "    j = tf.exp(e_values)\n",
    "    totals = tf.reduce_sum(tf.exp(e_values),1)\n",
    "    j = tf.unstack(j,axis = 0)\n",
    "    totals = tf.unstack(totals, axis = 0)\n",
    "    for i in range(batch_size):\n",
    "        j[i] = j[i]/totals[i]\n",
    "    j = tf.stack(j,axis = 0)\n",
    "    return j"
   ]
  },
  {
   "cell_type": "code",
   "execution_count": 366,
   "metadata": {},
   "outputs": [],
   "source": [
    "a = tf.constant([[[1,2,3],[2,3,1],[4,5,2],[2,1,1]],[[0,2,3],[4,5,0],[7,3,1],[4,1,2]],[[1,1,1],[0,1,1],[3,2,4],[4,3,0]]])\n",
    "b = tf.constant([[[1,1,1],[1,1,1],[1,1,1]],[[2,2,2],[2,2,2],[2,2,2]],[[3,3,3],[3,3,3],[3,3,3]]])\n",
    "c = tf.constant([1,1,1])"
   ]
  },
  {
   "cell_type": "code",
   "execution_count": 371,
   "metadata": {},
   "outputs": [],
   "source": [
    "d = tf.add(a,c)\n",
    "e = tf.add(b,c)"
   ]
  },
  {
   "cell_type": "code",
   "execution_count": 431,
   "metadata": {},
   "outputs": [],
   "source": [
    "e = neural_network(X)\n",
    "f = softmax(e)"
   ]
  },
  {
   "cell_type": "code",
   "execution_count": 432,
   "metadata": {},
   "outputs": [],
   "source": [
    "init = tf.global_variables_initializer()"
   ]
  },
  {
   "cell_type": "code",
   "execution_count": 433,
   "metadata": {},
   "outputs": [],
   "source": [
    "with tf.Session() as sess:\n",
    "    sess.run(init)\n",
    "    k = sess.run(f , feed_dict = {X:x})"
   ]
  },
  {
   "cell_type": "code",
   "execution_count": 436,
   "metadata": {},
   "outputs": [
    {
     "data": {
      "text/plain": [
       "[array([0.99999994], dtype=float32),\n",
       " array([1.], dtype=float32),\n",
       " array([1.], dtype=float32)]"
      ]
     },
     "execution_count": 436,
     "metadata": {},
     "output_type": "execute_result"
    }
   ],
   "source": []
  },
  {
   "cell_type": "code",
   "execution_count": 415,
   "metadata": {},
   "outputs": [
    {
     "data": {
      "text/plain": [
       "array([[[1, 2, 3],\n",
       "        [2, 3, 1],\n",
       "        [4, 5, 2],\n",
       "        [2, 1, 1]],\n",
       "\n",
       "       [[0, 2, 3],\n",
       "        [4, 5, 0],\n",
       "        [7, 3, 1],\n",
       "        [4, 1, 2]],\n",
       "\n",
       "       [[1, 1, 1],\n",
       "        [0, 1, 1],\n",
       "        [3, 2, 4],\n",
       "        [4, 3, 0]]], dtype=int32)"
      ]
     },
     "execution_count": 415,
     "metadata": {},
     "output_type": "execute_result"
    }
   ],
   "source": [
    "l"
   ]
  },
  {
   "cell_type": "code",
   "execution_count": 19,
   "metadata": {},
   "outputs": [],
   "source": [
    "tf.reduce_sum?"
   ]
  },
  {
   "cell_type": "code",
   "execution_count": 302,
   "metadata": {},
   "outputs": [],
   "source": [
    "tf.matmul?"
   ]
  },
  {
   "cell_type": "markdown",
   "metadata": {},
   "source": [
    "## Weighted average of alpha values and 200 dim output of BiRnn"
   ]
  },
  {
   "cell_type": "code",
   "execution_count": 1,
   "metadata": {},
   "outputs": [
    {
     "name": "stderr",
     "output_type": "stream",
     "text": [
      "/home/administrator/anaconda3/lib/python3.6/site-packages/h5py/__init__.py:36: FutureWarning: Conversion of the second argument of issubdtype from `float` to `np.floating` is deprecated. In future, it will be treated as `np.float64 == np.dtype(float).type`.\n",
      "  from ._conv import register_converters as _register_converters\n"
     ]
    }
   ],
   "source": [
    "import tensorflow as tf\n",
    "import numpy as np"
   ]
  },
  {
   "cell_type": "code",
   "execution_count": 30,
   "metadata": {},
   "outputs": [],
   "source": [
    "# outs = np.random.normal(1,1,[3,850,200]).astype(np.float32)\n",
    "# alpha = np.random.normal(1,1,[3,850,1]).astype(np.float32)\n",
    "\n",
    "outs = np.array([[[1,2,3],[2,3,1],[4,5,2],[2,1,1]],[[0,2,3],[4,5,2],[7,3,1],[4,1,2]],[[1,1,1],[0,1,1],[3,2,4],[4,3,0]]])\n",
    "alpha = np.array([1,2,2,3,2,3,4,5,5,6,7,8]).reshape(3,4,1)"
   ]
  },
  {
   "cell_type": "code",
   "execution_count": 32,
   "metadata": {},
   "outputs": [],
   "source": [
    "def weighted_average(outs,alpha):\n",
    "    weighted_average = outs*alpha\n",
    "    return weighted_average"
   ]
  },
  {
   "cell_type": "code",
   "execution_count": 31,
   "metadata": {},
   "outputs": [],
   "source": [
    "A = tf.placeholder(tf.float32,[3,4,3])\n",
    "B = tf.placeholder(tf.float32,[3,4,1])"
   ]
  },
  {
   "cell_type": "code",
   "execution_count": 33,
   "metadata": {},
   "outputs": [],
   "source": [
    "c = weighted_average(A,B)\n",
    "d = tf.reduce_sum(c,axis = 1)"
   ]
  },
  {
   "cell_type": "code",
   "execution_count": 34,
   "metadata": {},
   "outputs": [],
   "source": [
    "with tf.Session() as sess:\n",
    "    e = sess.run(d, feed_dict = {A:outs,B:alpha})"
   ]
  },
  {
   "cell_type": "markdown",
   "metadata": {},
   "source": [
    "### There is not a single alpha for a word , giving importance to that word, there will be more alpha values for each word , as many alpha's as output words. \n",
    "### So for the first word of  output , the first word of input has alpha1 importance, for the second word it has alpha2 importance etc."
   ]
  },
  {
   "cell_type": "code",
   "execution_count": 1,
   "metadata": {},
   "outputs": [
    {
     "name": "stderr",
     "output_type": "stream",
     "text": [
      "/home/administrator/anaconda3/lib/python3.6/site-packages/h5py/__init__.py:36: FutureWarning: Conversion of the second argument of issubdtype from `float` to `np.floating` is deprecated. In future, it will be treated as `np.float64 == np.dtype(float).type`.\n",
      "  from ._conv import register_converters as _register_converters\n"
     ]
    }
   ],
   "source": [
    "import tensorflow as tf\n",
    "import numpy as np"
   ]
  },
  {
   "cell_type": "code",
   "execution_count": 2,
   "metadata": {},
   "outputs": [],
   "source": [
    "num_outputs = 30"
   ]
  },
  {
   "cell_type": "code",
   "execution_count": 79,
   "metadata": {},
   "outputs": [],
   "source": [
    "outs = np.random.normal(1,1,[3,850,200]).astype(np.float32)\n",
    "alpha = np.random.normal(1,1,[3,850,1]).astype(np.float32)\n",
    "\n",
    "# outs = np.array([[[1,2,3],[2,3,1],[4,5,2],[2,1,1]],[[0,2,3],[4,5,2],[7,3,1],[4,1,2]],[[1,1,1],[0,1,1],[3,2,4],[4,3,0]]])\n",
    "# alpha = np.array([1,2,2,3,2,3,4,5,5,6,7,8]).reshape(3,4,1)\n",
    "\n",
    "# j = tf.constant([[9,12,14,16],[3,8,7,2],[4,5,3,4],[6,6,7,9],[3,2,8,11],[1,16,13,12],[0,9,12,3]])\n",
    "# total = tf.constant([26,58,64,57])"
   ]
  },
  {
   "cell_type": "code",
   "execution_count": 4,
   "metadata": {},
   "outputs": [],
   "source": [
    "X = tf.placeholder(tf.float32, shape = [None,850,200])"
   ]
  },
  {
   "cell_type": "code",
   "execution_count": 5,
   "metadata": {},
   "outputs": [],
   "source": [
    "batch_size = 3"
   ]
  },
  {
   "cell_type": "code",
   "execution_count": 48,
   "metadata": {},
   "outputs": [],
   "source": [
    "def neural_network(combined_BiRnn_output):\n",
    "    \n",
    "    Wx1 = tf.Variable(tf.random_normal([batch_size,200,100],0.3,1/200))\n",
    "    Wx2 = tf.Variable(tf.random_normal([batch_size,100,num_outputs],0.5,1/50))\n",
    "    b1 = tf.Variable(tf.constant(0.5,shape = [100]))\n",
    "    b2 = tf.Variable(tf.constant(0.3,shape = [num_outputs]))\n",
    "    first_out = tf.nn.tanh(tf.add(tf.matmul(combined_BiRnn_output,Wx1),b1))\n",
    "    e = tf.nn.relu(tf.add(tf.matmul(first_out,Wx2),b2))\n",
    "        \n",
    "    return e"
   ]
  },
  {
   "cell_type": "code",
   "execution_count": 17,
   "metadata": {},
   "outputs": [],
   "source": [
    "def softmax(e_values):\n",
    "    j = tf.exp(e_values)\n",
    "    totals = tf.reduce_sum(j,1)\n",
    "    j = tf.unstack(j,axis = 0)\n",
    "    totals = tf.unstack(totals, axis = 0)\n",
    "    for i in range(batch_size):\n",
    "        j[i] = j[i]/totals[i]\n",
    "    j = tf.stack(j,axis = 0)\n",
    "    return j"
   ]
  },
  {
   "cell_type": "code",
   "execution_count": 80,
   "metadata": {},
   "outputs": [],
   "source": [
    "e = neural_network(X)\n",
    "f = softmax(e)"
   ]
  },
  {
   "cell_type": "code",
   "execution_count": 81,
   "metadata": {},
   "outputs": [],
   "source": [
    "init = tf.global_variables_initializer()"
   ]
  },
  {
   "cell_type": "code",
   "execution_count": 82,
   "metadata": {},
   "outputs": [],
   "source": [
    "with tf.Session() as sess:\n",
    "    sess.run(init)\n",
    "    \n",
    "    g = sess.run(f,feed_dict = {X : outs})"
   ]
  },
  {
   "cell_type": "markdown",
   "metadata": {},
   "source": [
    "## Weighted Sum "
   ]
  },
  {
   "cell_type": "code",
   "execution_count": 3,
   "metadata": {},
   "outputs": [],
   "source": [
    "import tensorflow as tf\n",
    "import numpy as np"
   ]
  },
  {
   "cell_type": "code",
   "execution_count": 37,
   "metadata": {},
   "outputs": [],
   "source": [
    "outputs = tf.constant([[[1,2,1,3,4,5],[2,1,3,4,3,2],[1,1,6,7,8,3],[4,5,9,9,3,2]],[[1,2,1,3,4,5],[2,1,3,4,3,2],[1,1,6,7,8,3],[4,5,9,9,3,2]]])\n",
    "alphas = tf.constant(g)"
   ]
  },
  {
   "cell_type": "code",
   "execution_count": 26,
   "metadata": {},
   "outputs": [],
   "source": [
    "e = tf.transpose(alphas,perm=[0,2,1])"
   ]
  },
  {
   "cell_type": "code",
   "execution_count": 30,
   "metadata": {},
   "outputs": [],
   "source": [
    "init = tf.global_variables_initializer()\n",
    "with tf.Session() as sess:\n",
    "    sess.run(init)\n",
    "    f = sess.run(alphas)\n",
    "    g = sess.run(e)"
   ]
  },
  {
   "cell_type": "code",
   "execution_count": 24,
   "metadata": {},
   "outputs": [
    {
     "data": {
      "text/plain": [
       "array([[[1, 1],\n",
       "        [1, 0],\n",
       "        [3, 1],\n",
       "        [1, 5]],\n",
       "\n",
       "       [[1, 1],\n",
       "        [1, 0],\n",
       "        [3, 1],\n",
       "        [1, 5]]])"
      ]
     },
     "execution_count": 24,
     "metadata": {},
     "output_type": "execute_result"
    }
   ],
   "source": [
    "np.transpose(alphas,axes = [0,2,1])"
   ]
  },
  {
   "cell_type": "code",
   "execution_count": 31,
   "metadata": {},
   "outputs": [
    {
     "data": {
      "text/plain": [
       "array([[[1, 1, 3, 1],\n",
       "        [1, 0, 1, 5]],\n",
       "\n",
       "       [[1, 1, 3, 1],\n",
       "        [1, 0, 1, 5]]], dtype=int32)"
      ]
     },
     "execution_count": 31,
     "metadata": {},
     "output_type": "execute_result"
    }
   ],
   "source": [
    "f"
   ]
  },
  {
   "cell_type": "code",
   "execution_count": 32,
   "metadata": {},
   "outputs": [
    {
     "data": {
      "text/plain": [
       "array([[[1, 1],\n",
       "        [1, 0],\n",
       "        [3, 1],\n",
       "        [1, 5]],\n",
       "\n",
       "       [[1, 1],\n",
       "        [1, 0],\n",
       "        [3, 1],\n",
       "        [1, 5]]], dtype=int32)"
      ]
     },
     "execution_count": 32,
     "metadata": {},
     "output_type": "execute_result"
    }
   ],
   "source": [
    "g"
   ]
  },
  {
   "cell_type": "code",
   "execution_count": 38,
   "metadata": {},
   "outputs": [],
   "source": [
    "e = tf.matmul(tf.transpose(alphas,perm = [0,2,1]),outputs)"
   ]
  },
  {
   "cell_type": "code",
   "execution_count": 39,
   "metadata": {},
   "outputs": [],
   "source": [
    "init = tf.global_variables_initializer()\n",
    "with tf.Session() as sess:\n",
    "    sess.run(init)\n",
    "    f = sess.run(e)"
   ]
  },
  {
   "cell_type": "code",
   "execution_count": 40,
   "metadata": {},
   "outputs": [
    {
     "data": {
      "text/plain": [
       "array([[[10, 11, 31, 37, 34, 18],\n",
       "        [22, 28, 52, 55, 27, 18]],\n",
       "\n",
       "       [[10, 11, 31, 37, 34, 18],\n",
       "        [22, 28, 52, 55, 27, 18]]], dtype=int32)"
      ]
     },
     "execution_count": 40,
     "metadata": {},
     "output_type": "execute_result"
    }
   ],
   "source": [
    "f"
   ]
  },
  {
   "cell_type": "code",
   "execution_count": 41,
   "metadata": {},
   "outputs": [],
   "source": [
    "def weighted_average(outputs,alphas):\n",
    "    \n",
    "    alphas = tf.transpose(alphas,perm = [0,2,1])\n",
    "    context_vectors = tf.matmul(alphas,outputs)\n",
    "    \n",
    "    return context_vectors"
   ]
  },
  {
   "cell_type": "code",
   "execution_count": 43,
   "metadata": {},
   "outputs": [],
   "source": [
    "e = weighted_average(outputs,alphas)\n",
    "init = tf.global_variables_initializer()\n",
    "with tf.Session() as sess:\n",
    "    sess.run(init)\n",
    "    f = sess.run(e)"
   ]
  },
  {
   "cell_type": "code",
   "execution_count": 44,
   "metadata": {},
   "outputs": [
    {
     "data": {
      "text/plain": [
       "array([[[10, 11, 31, 37, 34, 18],\n",
       "        [22, 28, 52, 55, 27, 18]],\n",
       "\n",
       "       [[10, 11, 31, 37, 34, 18],\n",
       "        [22, 28, 52, 55, 27, 18]]], dtype=int32)"
      ]
     },
     "execution_count": 44,
     "metadata": {},
     "output_type": "execute_result"
    }
   ],
   "source": [
    "f"
   ]
  },
  {
   "cell_type": "markdown",
   "metadata": {},
   "source": [
    "## Decoder Network code "
   ]
  },
  {
   "cell_type": "code",
   "execution_count": 1,
   "metadata": {},
   "outputs": [
    {
     "name": "stderr",
     "output_type": "stream",
     "text": [
      "/home/administrator/anaconda3/lib/python3.6/site-packages/h5py/__init__.py:36: FutureWarning: Conversion of the second argument of issubdtype from `float` to `np.floating` is deprecated. In future, it will be treated as `np.float64 == np.dtype(float).type`.\n",
      "  from ._conv import register_converters as _register_converters\n"
     ]
    }
   ],
   "source": [
    "import tensorflow as tf\n",
    "import numpy as np"
   ]
  },
  {
   "cell_type": "code",
   "execution_count": 10,
   "metadata": {},
   "outputs": [],
   "source": [
    "rnn_cell_dimension = 200\n",
    "batch_size = 3\n",
    "num_output_steps = 84\n",
    "context_vector = np.random.normal(2,3,size = [batch_size,num_output_steps,rnn_cell_dimension])"
   ]
  },
  {
   "cell_type": "code",
   "execution_count": 4,
   "metadata": {},
   "outputs": [],
   "source": [
    "context = tf.placeholder(tf.float32,shape = [batch_size,num_output_steps,rnn_cell_dimension])"
   ]
  },
  {
   "cell_type": "markdown",
   "metadata": {},
   "source": [
    "###  Not doing sequence length here do that later and see "
   ]
  },
  {
   "cell_type": "code",
   "execution_count": 7,
   "metadata": {},
   "outputs": [],
   "source": [
    "cell_factory = tf.nn.rnn_cell.LSTMCell(100,activation=tf.nn.relu)\n",
    "initial_state = cell_factory.zero_state(batch_size, dtype=tf.float32)\n",
    "decoder, _ = tf.nn.dynamic_rnn(cell_factory,context,initial_state=initial_state)"
   ]
  },
  {
   "cell_type": "code",
   "execution_count": 11,
   "metadata": {},
   "outputs": [],
   "source": [
    "init = tf.global_variables_initializer()\n",
    "with tf.Session() as sess:\n",
    "    sess.run(init)\n",
    "    \n",
    "    e = sess.run(decoder,feed_dict = {context : context_vector})"
   ]
  },
  {
   "cell_type": "code",
   "execution_count": 13,
   "metadata": {},
   "outputs": [
    {
     "data": {
      "text/plain": [
       "(3, 84, 100)"
      ]
     },
     "execution_count": 13,
     "metadata": {},
     "output_type": "execute_result"
    }
   ],
   "source": [
    "e.shape"
   ]
  },
  {
   "cell_type": "code",
   "execution_count": 18,
   "metadata": {},
   "outputs": [],
   "source": [
    "def output_neural_network(decoder_rnn):\n",
    "    \n",
    "    Wx1 = tf.Variable(tf.random_normal([batch_size,100,200000],0.5,1/num_output_steps))\n",
    "    b1 = tf.Variable(tf.constant(0.5,shape = [200000]))\n",
    "    first_out = tf.nn.softmax(tf.nn.relu((tf.add(tf.matmul(decoder_rnn,Wx1),b1))))\n",
    "        \n",
    "    return first_out"
   ]
  },
  {
   "cell_type": "code",
   "execution_count": 19,
   "metadata": {},
   "outputs": [],
   "source": [
    "e = output_neural_network(decoder)"
   ]
  },
  {
   "cell_type": "code",
   "execution_count": 20,
   "metadata": {},
   "outputs": [],
   "source": [
    "init = tf.global_variables_initializer()\n",
    "with tf.Session() as sess:\n",
    "    sess.run(init)\n",
    "    \n",
    "    f = sess.run(e,feed_dict = {context : context_vector})"
   ]
  },
  {
   "cell_type": "code",
   "execution_count": 29,
   "metadata": {},
   "outputs": [
    {
     "ename": "NameError",
     "evalue": "name 'probability_distribution' is not defined",
     "output_type": "error",
     "traceback": [
      "\u001b[0;31m---------------------------------------------------------------------------\u001b[0m",
      "\u001b[0;31mNameError\u001b[0m                                 Traceback (most recent call last)",
      "\u001b[0;32m<ipython-input-29-63fd79a7651b>\u001b[0m in \u001b[0;36m<module>\u001b[0;34m()\u001b[0m\n\u001b[0;32m----> 1\u001b[0;31m \u001b[0mc_e\u001b[0m \u001b[0;34m=\u001b[0m \u001b[0mtf\u001b[0m\u001b[0;34m.\u001b[0m\u001b[0mnn\u001b[0m\u001b[0;34m.\u001b[0m\u001b[0msoftmax_cross_entropy_with_logits_v2\u001b[0m\u001b[0;34m(\u001b[0m\u001b[0mlogits\u001b[0m \u001b[0;34m=\u001b[0m \u001b[0mprobability_distribution\u001b[0m\u001b[0;34m,\u001b[0m\u001b[0mlabels\u001b[0m \u001b[0;34m=\u001b[0m \u001b[0mbatch_y\u001b[0m\u001b[0;34m)\u001b[0m\u001b[0;34m\u001b[0m\u001b[0;34m\u001b[0m\u001b[0m\n\u001b[0m",
      "\u001b[0;31mNameError\u001b[0m: name 'probability_distribution' is not defined"
     ]
    }
   ],
   "source": [
    "c_e = tf.nn.softmax_cross_entropy_with_logits_v2(logits = probability_distribution,labels = batch_y)\n",
    "optimizer = tf.train.AdamOptimizer(learning_rate = 0.3)\n",
    "train = optimizer.minimize(c_e)"
   ]
  },
  {
   "cell_type": "code",
   "execution_count": null,
   "metadata": {},
   "outputs": [],
   "source": []
  }
 ],
 "metadata": {
  "kernelspec": {
   "display_name": "Python 3",
   "language": "python",
   "name": "python3"
  },
  "language_info": {
   "codemirror_mode": {
    "name": "ipython",
    "version": 3
   },
   "file_extension": ".py",
   "mimetype": "text/x-python",
   "name": "python",
   "nbconvert_exporter": "python",
   "pygments_lexer": "ipython3",
   "version": "3.6.8"
  }
 },
 "nbformat": 4,
 "nbformat_minor": 2
}
